{
 "cells": [
  {
   "cell_type": "code",
   "execution_count": 3,
   "metadata": {},
   "outputs": [
    {
     "ename": "ModuleNotFoundError",
     "evalue": "No module named 'dataset'",
     "output_type": "error",
     "traceback": [
      "\u001b[0;31m---------------------------------------------------------------------------\u001b[0m",
      "\u001b[0;31mModuleNotFoundError\u001b[0m                       Traceback (most recent call last)",
      "\u001b[1;32m/home/dnn2/deep-learning/DNN/demo_tensorboard.ipynb セル 1\u001b[0m line \u001b[0;36m6\n\u001b[1;32m      <a href='vscode-notebook-cell:/home/dnn2/deep-learning/DNN/demo_tensorboard.ipynb#W0sZmlsZQ%3D%3D?line=2'>3</a>\u001b[0m \u001b[39mfrom\u001b[39;00m \u001b[39mtorch\u001b[39;00m\u001b[39m.\u001b[39;00m\u001b[39mutils\u001b[39;00m\u001b[39m.\u001b[39;00m\u001b[39mtensorboard\u001b[39;00m \u001b[39mimport\u001b[39;00m SummaryWriter\n\u001b[1;32m      <a href='vscode-notebook-cell:/home/dnn2/deep-learning/DNN/demo_tensorboard.ipynb#W0sZmlsZQ%3D%3D?line=3'>4</a>\u001b[0m \u001b[39mfrom\u001b[39;00m \u001b[39mtqdm\u001b[39;00m \u001b[39mimport\u001b[39;00m tqdm\n\u001b[0;32m----> <a href='vscode-notebook-cell:/home/dnn2/deep-learning/DNN/demo_tensorboard.ipynb#W0sZmlsZQ%3D%3D?line=5'>6</a>\u001b[0m \u001b[39mfrom\u001b[39;00m \u001b[39mdataset\u001b[39;00m\u001b[39m.\u001b[39;00m\u001b[39mmnist\u001b[39;00m \u001b[39mimport\u001b[39;00m get_dataloader\n\u001b[1;32m      <a href='vscode-notebook-cell:/home/dnn2/deep-learning/DNN/demo_tensorboard.ipynb#W0sZmlsZQ%3D%3D?line=6'>7</a>\u001b[0m \u001b[39mfrom\u001b[39;00m \u001b[39mmodel\u001b[39;00m\u001b[39m.\u001b[39;00m\u001b[39mresnet\u001b[39;00m \u001b[39mimport\u001b[39;00m get_resnet\n\u001b[1;32m      <a href='vscode-notebook-cell:/home/dnn2/deep-learning/DNN/demo_tensorboard.ipynb#W0sZmlsZQ%3D%3D?line=8'>9</a>\u001b[0m \u001b[39mdef\u001b[39;00m \u001b[39mtrain\u001b[39m(total_epoch: \u001b[39mint\u001b[39m\u001b[39m=\u001b[39m\u001b[39m100\u001b[39m):\n",
      "\u001b[0;31mModuleNotFoundError\u001b[0m: No module named 'dataset'"
     ]
    }
   ],
   "source": [
    "import torch\n",
    "from torch import nn, optim\n",
    "from torch.utils.tensorboard import SummaryWriter\n",
    "from tqdm import tqdm\n",
    "\n",
    "from dataset.mnist import get_dataloader\n",
    "from model.resnet import get_resnet\n",
    "\n",
    "def train(total_epoch: int=100):\n",
    "   writer = SummaryWriter(log_dir=\"log\")\n",
    "   dataloader = get_dataloader(root=\"data\", batch_size=64)\n",
    "\n",
    "   model = get_resnet(pretrained=True)\n",
    "   optimizer = optim.SGD(\n",
    "       params=model.parameters(),\n",
    "       lr=1e-3\n",
    "   )\n",
    "   scheduler = optim.lr_scheduler.OneCycleLR(\n",
    "       optimizer=optimizer,\n",
    "       max_lr=1e-3,\n",
    "       total_steps=len(dataloader),\n",
    "   )\n",
    "   criterion = nn.CrossEntropyLoss()\n",
    "\n",
    "   model.train()\n",
    "   for epoch in range(total_epoch):\n",
    "       accuracy, train_loss = 0.0, 0.0\n",
    "       for images, labels in tqdm(dataloader):\n",
    "           optimizer.zero_grad()\n",
    "           \n",
    "           out = model(images)\n",
    "           loss = criterion(out, labels)\n",
    "\n",
    "           loss.backward()\n",
    "           optimizer.step()\n",
    "\n",
    "           # 推測値\n",
    "           preds = out.argmax(axis=1)\n",
    "\n",
    "           # lossの算出\n",
    "           train_loss += loss.item()\n",
    "           accuracy += torch.sum(preds == labels).item() / len(labels)\n",
    "\n",
    "       scheduler.step()\n",
    "\n",
    "       # logの記録\n",
    "       writer.add_scalar(\"loss\", train_loss / len(dataloader), epoch)\n",
    "       writer.add_scalar(\"accuracy\", accuracy / len(dataloader), epoch)     \n",
    "       writer.add_scalar(\"lr\", scheduler.get_lr()[0], epoch)   \n",
    "\n",
    "       print(f\"epoch: {epoch + 1}\")\n",
    "       print(f\"loss: {train_loss / len(dataloader)}\")\n",
    "       print(f\"accuracy: {accuracy / len(dataloader)}\")\n",
    "\n"
   ]
  },
  {
   "cell_type": "code",
   "execution_count": null,
   "metadata": {},
   "outputs": [],
   "source": []
  }
 ],
 "metadata": {
  "kernelspec": {
   "display_name": "deep",
   "language": "python",
   "name": "python3"
  },
  "language_info": {
   "codemirror_mode": {
    "name": "ipython",
    "version": 3
   },
   "file_extension": ".py",
   "mimetype": "text/x-python",
   "name": "python",
   "nbconvert_exporter": "python",
   "pygments_lexer": "ipython3",
   "version": "3.11.5"
  }
 },
 "nbformat": 4,
 "nbformat_minor": 2
}
