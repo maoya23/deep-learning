{
 "cells": [
  {
   "cell_type": "code",
   "execution_count": 1,
   "metadata": {},
   "outputs": [
    {
     "name": "stdout",
     "output_type": "stream",
     "text": [
      "4.65.0\n",
      "2.1.0\n",
      "0.16.0\n"
     ]
    }
   ],
   "source": [
    "import tqdm\n",
    "import torch\n",
    "import torchvision\n",
    "\n",
    "print(tqdm.__version__)\n",
    "print(torch.__version__)\n",
    "print(torchvision.__version__)"
   ]
  },
  {
   "cell_type": "code",
   "execution_count": 2,
   "metadata": {},
   "outputs": [],
   "source": [
    "import torch\n",
    "import torch.nn as nn\n",
    "import torch.optim as optim\n",
    "import torchvision\n",
    "import torchvision.transforms as transforms\n",
    "\n",
    "from tqdm import tqdm"
   ]
  },
  {
   "cell_type": "code",
   "execution_count": 3,
   "metadata": {},
   "outputs": [],
   "source": [
    "device=torch.device(\"cuda\" if torch.cuda.is_available() else \"cpu\")\n",
    "batch_size=128\n",
    "num_classes=10\n",
    "num_epochs=20\n",
    "lr=0.1"
   ]
  },
  {
   "cell_type": "code",
   "execution_count": 4,
   "metadata": {},
   "outputs": [
    {
     "name": "stdout",
     "output_type": "stream",
     "text": [
      "Downloading https://www.cs.toronto.edu/~kriz/cifar-10-python.tar.gz to CIFAR10/cifar-10-python.tar.gz\n"
     ]
    },
    {
     "name": "stderr",
     "output_type": "stream",
     "text": [
      "100%|██████████| 170498071/170498071 [00:12<00:00, 13654647.63it/s]\n"
     ]
    },
    {
     "name": "stdout",
     "output_type": "stream",
     "text": [
      "Extracting CIFAR10/cifar-10-python.tar.gz to CIFAR10\n",
      "Files already downloaded and verified\n"
     ]
    }
   ],
   "source": [
    "transform={\n",
    "    \"train\":transforms.Compose([\n",
    "        transforms.ToTensor(),\n",
    "    ]),\n",
    "    \"test\":transforms.Compose([\n",
    "        transforms.ToTensor(),\n",
    "    ])\n",
    "}\n",
    "\n",
    "dataset={\n",
    "    \"train\":torchvision.datasets.CIFAR10(root=\"CIFAR10\",train=True,transform=transform[\"train\"],download=True),\n",
    "    \"test\":torchvision.datasets.CIFAR10(root=\"CIFAR10\",train=False,transform=transform[\"test\"],download=True)\n",
    "}\n",
    "\n",
    "dataloader={\n",
    "    \"train\":torch.utils.data.DataLoader(dataset[\"train\"],batch_size=batch_size,shuffle=True,num_workers=2),\n",
    "    \"test\":torch.utils.data.DataLoader(dataset[\"test\"],batch_size=batch_size,shuffle=False,num_workers=2)\n",
    "}\n"
   ]
  },
  {
   "cell_type": "code",
   "execution_count": 5,
   "metadata": {},
   "outputs": [
    {
     "name": "stderr",
     "output_type": "stream",
     "text": [
      "/home/dnn2/anaconda3/envs/deep/lib/python3.11/site-packages/torchvision/models/_utils.py:208: UserWarning: The parameter 'pretrained' is deprecated since 0.13 and may be removed in the future, please use 'weights' instead.\n",
      "  warnings.warn(\n",
      "/home/dnn2/anaconda3/envs/deep/lib/python3.11/site-packages/torchvision/models/_utils.py:223: UserWarning: Arguments other than a weight enum or `None` for 'weights' are deprecated since 0.13 and may be removed in the future. The current behavior is equivalent to passing `weights=None`.\n",
      "  warnings.warn(msg)\n",
      "/home/dnn2/anaconda3/envs/deep/lib/python3.11/site-packages/torch/cuda/__init__.py:611: UserWarning: Can't initialize NVML\n",
      "  warnings.warn(\"Can't initialize NVML\")\n"
     ]
    }
   ],
   "source": [
    "model=torchvision.models.resnet18(pretrained=False)\n",
    "model.fc=nn.Linear(model.fc.in_features,num_classes)\n",
    "model=model.to(device)\n",
    "\n",
    "optimizer=optim.Adam(model.parameters(),lr=lr)\n",
    "criterion=nn.CrossEntropyLoss()"
   ]
  },
  {
   "cell_type": "code",
   "execution_count": 6,
   "metadata": {},
   "outputs": [],
   "source": [
    "def train(model,dataloader,otpimizer,criterion,num_epochs,device):\n",
    "\n",
    "    for epoch in range(1,num_epochs+1):\n",
    "\n",
    "        for phase in [\"train\",\"test\"]:\n",
    "\n",
    "            if phase==\"train\":\n",
    "                model.train()\n",
    "            elif phase==\"test\":\n",
    "                model.eval()\n",
    "\n",
    "            with torch.set_grad_enabled(phase==\"train\"):\n",
    "                loss_sum=0\n",
    "                corrects=0\n",
    "                total=0\n",
    "\n",
    "                with tqdm(total=len(dataloader[phase]),unit=\"batch\") as pbar:\n",
    "                    pbar.set_description(f\"Epoch[{epoch}/{num_epochs}]({phase})\")\n",
    "                    for imgs,labels in dataloader[phase]:   \n",
    "                        imgs,labels=imgs.to(device),labels.to(device)\n",
    "                        output=model(imgs)\n",
    "                        loss=criterion(output,labels)\n",
    "\n",
    "                        if phase==\"train\":\n",
    "                            optimizer.zero_grad()\n",
    "                            loss.backward()\n",
    "                            optimizer.step()\n",
    "\n",
    "                        predicted=torch.argmax(output,dim=1) ## dimあってる？\n",
    "                        corrects+=(predicted==labels).sum()\n",
    "                        total+=imgs.size(0)\n",
    "                            \n",
    "                        #loss関数で通してでてきたlossはCrossEntropyLossのreduction=\"mean\"なので平均\n",
    "                        #batch sizeをかけることで、batch全体での合計を今までのloss_sumに足し合わせる\n",
    "                        loss_sum+=loss*imgs.size(0) \n",
    "\n",
    "                        accuracy=corrects.item()/total\n",
    "                        running_loss=loss_sum/total\n",
    "                        pbar.set_postfix({\"loss\":running_loss.item(),\"accuracy\":accuracy })\n",
    "                        pbar.update(1)"
   ]
  },
  {
   "cell_type": "code",
   "execution_count": 7,
   "metadata": {},
   "outputs": [
    {
     "name": "stderr",
     "output_type": "stream",
     "text": [
      "Epoch[1/20](train): 100%|██████████| 391/391 [00:08<00:00, 47.44batch/s, loss=2.24, accuracy=0.234]\n",
      "Epoch[1/20](test): 100%|██████████| 79/79 [00:00<00:00, 95.28batch/s, loss=1.96, accuracy=0.256] \n",
      "Epoch[2/20](train): 100%|██████████| 391/391 [00:05<00:00, 73.47batch/s, loss=1.69, accuracy=0.324]\n",
      "Epoch[2/20](test): 100%|██████████| 79/79 [00:00<00:00, 94.03batch/s, loss=1.67, accuracy=0.335] \n",
      "Epoch[3/20](train): 100%|██████████| 391/391 [00:05<00:00, 75.74batch/s, loss=1.59, accuracy=0.378]\n",
      "Epoch[3/20](test): 100%|██████████| 79/79 [00:00<00:00, 94.19batch/s, loss=3.5, accuracy=0.286]  \n",
      "Epoch[4/20](train): 100%|██████████| 391/391 [00:05<00:00, 76.31batch/s, loss=1.49, accuracy=0.44] \n",
      "Epoch[4/20](test): 100%|██████████| 79/79 [00:00<00:00, 96.47batch/s, loss=1.5, accuracy=0.446]  \n",
      "Epoch[5/20](train): 100%|██████████| 391/391 [00:05<00:00, 75.11batch/s, loss=1.38, accuracy=0.494]\n",
      "Epoch[5/20](test): 100%|██████████| 79/79 [00:00<00:00, 99.13batch/s, loss=1.59, accuracy=0.458] \n",
      "Epoch[6/20](train): 100%|██████████| 391/391 [00:05<00:00, 75.91batch/s, loss=1.31, accuracy=0.526]\n",
      "Epoch[6/20](test): 100%|██████████| 79/79 [00:00<00:00, 97.93batch/s, loss=1.81, accuracy=0.411] \n",
      "Epoch[7/20](train): 100%|██████████| 391/391 [00:05<00:00, 76.30batch/s, loss=1.19, accuracy=0.574]\n",
      "Epoch[7/20](test): 100%|██████████| 79/79 [00:00<00:00, 92.73batch/s, loss=1.42, accuracy=0.527] \n",
      "Epoch[8/20](train): 100%|██████████| 391/391 [00:05<00:00, 75.15batch/s, loss=1.1, accuracy=0.612] \n",
      "Epoch[8/20](test): 100%|██████████| 79/79 [00:00<00:00, 100.27batch/s, loss=1.29, accuracy=0.579]\n",
      "Epoch[9/20](train): 100%|██████████| 391/391 [00:05<00:00, 75.91batch/s, loss=1.01, accuracy=0.65] \n",
      "Epoch[9/20](test): 100%|██████████| 79/79 [00:00<00:00, 97.61batch/s, loss=1.23, accuracy=0.595] \n",
      "Epoch[10/20](train): 100%|██████████| 391/391 [00:05<00:00, 75.78batch/s, loss=0.931, accuracy=0.678]\n",
      "Epoch[10/20](test): 100%|██████████| 79/79 [00:00<00:00, 93.85batch/s, loss=1.08, accuracy=0.639] \n",
      "Epoch[11/20](train): 100%|██████████| 391/391 [00:05<00:00, 74.58batch/s, loss=0.88, accuracy=0.7]   \n",
      "Epoch[11/20](test): 100%|██████████| 79/79 [00:00<00:00, 96.65batch/s, loss=1.11, accuracy=0.644] \n",
      "Epoch[12/20](train): 100%|██████████| 391/391 [00:05<00:00, 75.06batch/s, loss=0.83, accuracy=0.719] \n",
      "Epoch[12/20](test): 100%|██████████| 79/79 [00:00<00:00, 96.63batch/s, loss=1.07, accuracy=0.649] \n",
      "Epoch[13/20](train): 100%|██████████| 391/391 [00:05<00:00, 74.36batch/s, loss=0.771, accuracy=0.739]\n",
      "Epoch[13/20](test): 100%|██████████| 79/79 [00:00<00:00, 99.82batch/s, loss=1.12, accuracy=0.672] \n",
      "Epoch[14/20](train): 100%|██████████| 391/391 [00:05<00:00, 74.56batch/s, loss=0.928, accuracy=0.689]\n",
      "Epoch[14/20](test): 100%|██████████| 79/79 [00:00<00:00, 101.37batch/s, loss=1.1, accuracy=0.67]  \n",
      "Epoch[15/20](train): 100%|██████████| 391/391 [00:05<00:00, 74.40batch/s, loss=0.746, accuracy=0.749]\n",
      "Epoch[15/20](test): 100%|██████████| 79/79 [00:00<00:00, 91.71batch/s, loss=1.15, accuracy=0.651] \n",
      "Epoch[16/20](train): 100%|██████████| 391/391 [00:05<00:00, 75.48batch/s, loss=0.651, accuracy=0.78] \n",
      "Epoch[16/20](test): 100%|██████████| 79/79 [00:00<00:00, 93.82batch/s, loss=1.25, accuracy=0.647] \n",
      "Epoch[17/20](train): 100%|██████████| 391/391 [00:05<00:00, 74.52batch/s, loss=0.596, accuracy=0.8]  \n",
      "Epoch[17/20](test): 100%|██████████| 79/79 [00:00<00:00, 100.09batch/s, loss=1.1, accuracy=0.697] \n",
      "Epoch[18/20](train): 100%|██████████| 391/391 [00:05<00:00, 74.63batch/s, loss=0.696, accuracy=0.767]\n",
      "Epoch[18/20](test): 100%|██████████| 79/79 [00:00<00:00, 94.54batch/s, loss=1.24, accuracy=0.649] \n",
      "Epoch[19/20](train): 100%|██████████| 391/391 [00:05<00:00, 74.26batch/s, loss=0.557, accuracy=0.813]\n",
      "Epoch[19/20](test): 100%|██████████| 79/79 [00:00<00:00, 96.96batch/s, loss=1.13, accuracy=0.686] \n",
      "Epoch[20/20](train): 100%|██████████| 391/391 [00:05<00:00, 73.76batch/s, loss=0.496, accuracy=0.834]\n",
      "Epoch[20/20](test): 100%|██████████| 79/79 [00:00<00:00, 98.90batch/s, loss=1.19, accuracy=0.67]  \n"
     ]
    }
   ],
   "source": [
    "\n",
    "train(model,dataloader,optimizer,criterion,num_epochs,device)"
   ]
  },
  {
   "cell_type": "code",
   "execution_count": null,
   "metadata": {},
   "outputs": [],
   "source": []
  }
 ],
 "metadata": {
  "kernelspec": {
   "display_name": "deep",
   "language": "python",
   "name": "python3"
  },
  "language_info": {
   "codemirror_mode": {
    "name": "ipython",
    "version": 3
   },
   "file_extension": ".py",
   "mimetype": "text/x-python",
   "name": "python",
   "nbconvert_exporter": "python",
   "pygments_lexer": "ipython3",
   "version": "3.11.5"
  }
 },
 "nbformat": 4,
 "nbformat_minor": 2
}
