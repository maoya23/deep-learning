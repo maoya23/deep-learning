{
  "cells": [
    {
      "attachments": {},
      "cell_type": "markdown",
      "metadata": {
        "id": "0NWVFkhv-EW2"
      },
      "source": [
        "\n",
        "\n",
        "<div style=\"text-align: center;\">【データセットのイメージ】</div>\n",
        "\n",
        "| レビュー | 評価 |\n",
        "|:--------:|:-------------:|\n",
        "|Where's Michael Caine when you need him? I've ...|negative|\n",
        "|To experience Head you really need to understa...|positive|\n",
        "\n",
        "そこで各レビュー文を入力として，その評価positive/negativeの二値分類をRNNで行ってみましょう．"
      ]
    },
    {
      "cell_type": "code",
      "execution_count": 3,
      "metadata": {
        "colab": {
          "base_uri": "https://localhost:8080/"
        },
        "id": "AP7Iwy3PFZ3m",
        "outputId": "0083cffc-0ec3-4cac-fc81-7ad29ff99cc7"
      },
      "outputs": [
        {
          "ename": "ModuleNotFoundError",
          "evalue": "No module named 'torchtext'",
          "output_type": "error",
          "traceback": [
            "\u001b[0;31m---------------------------------------------------------------------------\u001b[0m",
            "\u001b[0;31mModuleNotFoundError\u001b[0m                       Traceback (most recent call last)",
            "Cell \u001b[0;32mIn[3], line 14\u001b[0m\n\u001b[1;32m     12\u001b[0m \u001b[39mimport\u001b[39;00m \u001b[39mtorch\u001b[39;00m\u001b[39m.\u001b[39;00m\u001b[39mnn\u001b[39;00m\u001b[39m.\u001b[39;00m\u001b[39mfunctional\u001b[39;00m \u001b[39mas\u001b[39;00m \u001b[39mF\u001b[39;00m\n\u001b[1;32m     13\u001b[0m \u001b[39mfrom\u001b[39;00m \u001b[39mtorch\u001b[39;00m\u001b[39m.\u001b[39;00m\u001b[39mnn\u001b[39;00m\u001b[39m.\u001b[39;00m\u001b[39mutils\u001b[39;00m\u001b[39m.\u001b[39;00m\u001b[39mrnn\u001b[39;00m \u001b[39mimport\u001b[39;00m pad_sequence\n\u001b[0;32m---> 14\u001b[0m \u001b[39mimport\u001b[39;00m \u001b[39mtorchtext\u001b[39;00m\n\u001b[1;32m     15\u001b[0m \u001b[39mfrom\u001b[39;00m \u001b[39mtorchtext\u001b[39;00m \u001b[39mimport\u001b[39;00m data\n\u001b[1;32m     16\u001b[0m \u001b[39mfrom\u001b[39;00m \u001b[39mtorchtext\u001b[39;00m \u001b[39mimport\u001b[39;00m datasets\n",
            "\u001b[0;31mModuleNotFoundError\u001b[0m: No module named 'torchtext'"
          ]
        }
      ],
      "source": [
        "\n",
        "import random\n",
        "import numpy as np\n",
        "import string\n",
        "import re\n",
        "from collections import Counter\n",
        "from typing import List\n",
        "import torch\n",
        "import torch.nn as nn\n",
        "import torch.optim as optim\n",
        "import torch.autograd as autograd\n",
        "from torch.utils.data import DataLoader\n",
        "import torch.nn.functional as F\n",
        "from torch.nn.utils.rnn import pad_sequence\n",
        "import torchtext\n",
        "from torchtext import data\n",
        "from torchtext import datasets\n",
        "from torchtext.vocab import Vocab\n",
        "from torchtext.data.utils import get_tokenizer\n",
        "from sklearn.metrics import f1_score\n",
        "\n",
        "seed = 1234\n",
        "torch.manual_seed(seed)\n",
        "np.random.seed(seed)\n",
        "random.seed(seed)"
      ]
    },
    {
      "cell_type": "code",
      "execution_count": null,
      "metadata": {
        "id": "j2xVBypuxc-M"
      },
      "outputs": [],
      "source": [
        "# torch.log(0)によるnanを防ぐための関数\n",
        "def torch_log(x):\n",
        "    return torch.log(torch.clamp(x, min=1e-10))"
      ]
    },
    {
      "cell_type": "markdown",
      "metadata": {
        "id": "flBww3ZJgmNS"
      },
      "source": [
        "IMDbは`torchtext==0.15.1`からラベルの扱いが変わっています．`torchtext`のバージョンが`0.15.1`以上であることを確認してください．"
      ]
    },
    {
      "cell_type": "code",
      "execution_count": null,
      "metadata": {
        "colab": {
          "base_uri": "https://localhost:8080/"
        },
        "id": "WXmoH5yuwNjs",
        "outputId": "d82a52db-4896-4f35-bc02-cb05a6f16ffa"
      },
      "outputs": [
        {
          "name": "stdout",
          "output_type": "stream",
          "text": [
            "torch                         2.0.1\n",
            "torchaudio                    2.0.2\n",
            "torchtext                     0.6.0\n",
            "torchvision                   0.15.2\n"
          ]
        }
      ],
      "source": [
        "!pip list | grep torch"
      ]
    },
    {
      "cell_type": "markdown",
      "metadata": {
        "id": "Z-aoVICDcH2W"
      },
      "source": [
        "## 目次\n",
        "\n",
        "1. [データセットの読み込み](#scrollTo=zEltPNkLuLz6)\n",
        "1. [訓練実行(trainer)関数の定義](#scrollTo=G-laa4YqQRji)\n",
        "\n",
        "【課題1】Recurrent Neural Network (RNN) によるIMDbのsentiment analysis\n",
        "\n",
        "1. [Embedding層](#scrollTo=Urh6GUOQKBzE)\n",
        "1. [RNN](#scrollTo=ZNPaK9ExKBzI)\n",
        "1. [分類器](#scrollTo=2O0bZWqVOVk0)\n",
        "1. [学習](#scrollTo=emiO4f5rCklA)\n",
        "1. [torch.nn.RNN, torch.nn.Embeddingを用いたネットワークの記述](#scrollTo=yCktWJ9N8QDN)\n",
        "\n",
        "【課題2】Long short-term memory (LSTM) によるIMDbのsentiment analysis\n",
        "1. [LSTM](#scrollTo=tsXtYkNEm1Bh)\n",
        "1. [分類器](#scrollTo=IfHaLvJJWHeI)\n",
        "1. [学習](#scrollTo=qR2iKUy7yA3R)\n",
        "1. [torch.nn.LSTMを用いたネットワークの記述](#scrollTo=thf8W0lywagD)\n",
        "\n",
        "【課題3】Bidirectional LSTM\n",
        "1. [BidirectionalLSTM](#scrollTo=L9ZNn5gTP2yH)\n",
        "1. [学習](#scrollTo=1xbAI25fQA2E)\n",
        "\n",
        "【補足】[Gradient Clippingによる長系列への対処](#scrollTo=ExuiSiTo2k3m)"
      ]
    },
    {
      "cell_type": "markdown",
      "metadata": {
        "id": "zEltPNkLuLz6"
      },
      "source": [
        "## 1. データセットの読み込み\n",
        "\n",
        "自然言語処理において，データとなる文をそのままネットワークに入力することは出来ないので，適切な前処理をする必要があります．\n",
        "\n",
        "前処理の手順（英文の場合）は大まかに，\n",
        "- 単語ごとに区切る\n",
        "- 各単語にIDを割り振る\n",
        "\n",
        "という手順で行われ，この手順を経ることで，元々の文は整数列に変換され，ネットワークに入力することが可能となります．\n",
        "\n",
        "また，本演習では各単語にIDを割り振る処理に`torchtext`と呼ばれるライブラリを用いています．詳しく知りたい方は，[公式ドキュメント](https://pytorch.org/text/)を参照してください．"
      ]
    },
    {
      "cell_type": "code",
      "execution_count": null,
      "metadata": {
        "id": "9oN38u4fwNju"
      },
      "outputs": [
        {
          "ename": "TypeError",
          "evalue": "IMDB.__init__() missing 3 required positional arguments: 'path', 'text_field', and 'label_field'",
          "output_type": "error",
          "traceback": [
            "\u001b[0;31m---------------------------------------------------------------------------\u001b[0m",
            "\u001b[0;31mTypeError\u001b[0m                                 Traceback (most recent call last)",
            "Cell \u001b[0;32mIn[10], line 1\u001b[0m\n\u001b[0;32m----> 1\u001b[0m train_iter \u001b[39m=\u001b[39m datasets\u001b[39m.\u001b[39;49mIMDB(split\u001b[39m=\u001b[39;49m\u001b[39m'\u001b[39;49m\u001b[39mtrain\u001b[39;49m\u001b[39m'\u001b[39;49m)\n\u001b[1;32m      3\u001b[0m train_iter, valid_iter \u001b[39m=\u001b[39m train_iter\u001b[39m.\u001b[39mrandom_split(\n\u001b[1;32m      4\u001b[0m     weights\u001b[39m=\u001b[39m{\u001b[39m\"\u001b[39m\u001b[39mtrain\u001b[39m\u001b[39m\"\u001b[39m: \u001b[39m0.8\u001b[39m, \u001b[39m\"\u001b[39m\u001b[39mvalid\u001b[39m\u001b[39m\"\u001b[39m: \u001b[39m0.2\u001b[39m},\n\u001b[1;32m      5\u001b[0m     seed\u001b[39m=\u001b[39mseed,\n\u001b[1;32m      6\u001b[0m     total_length\u001b[39m=\u001b[39m\u001b[39mlen\u001b[39m(\u001b[39mlist\u001b[39m(train_iter)),\n\u001b[1;32m      7\u001b[0m )\n",
            "\u001b[0;31mTypeError\u001b[0m: IMDB.__init__() missing 3 required positional arguments: 'path', 'text_field', and 'label_field'"
          ]
        }
      ],
      "source": [
        "train_iter = datasets.IMDB(split='train')\n",
        "\n",
        "train_iter, valid_iter = train_iter.random_split(\n",
        "    weights={\"train\": 0.8, \"valid\": 0.2},\n",
        "    seed=seed,\n",
        "    total_length=len(list(train_iter)),\n",
        ")"
      ]
    },
    {
      "cell_type": "markdown",
      "metadata": {
        "id": "oeotUWUJx9_-"
      },
      "source": [
        "訓練データの文章内の単語を[collections.Counter](https://docs.python.org/ja/3/library/collections.html?highlight=collections%20counter#collections.Counter)で数え上げ，[torchtext.vocab.vocab](https://pytorch.org/text/stable/vocab.html#id1)で語彙リスト（`Vocab`オブジェクト）を作っていきます．\n",
        "\n",
        "引数`specials`で特別なトークンを指定しています．\n",
        "- `<unk>`: Unknown. 出てくる頻度が少なすぎる単語などを未分類としておきます．\n",
        "- `<PAD>`: 短い文章はこのトークンで埋めることで，長い文章に長さを合わせます．\n",
        "- `<BOS>`: Begin of sentence.\n",
        "- `<EOS>`: End of sentence."
      ]
    },
    {
      "cell_type": "code",
      "execution_count": null,
      "metadata": {
        "colab": {
          "base_uri": "https://localhost:8080/"
        },
        "id": "S_Wl5lKUwNju",
        "outputId": "4a3d568a-2eae-404a-8f34-8790947f6151"
      },
      "outputs": [],
      "source": [
        "# 単語をスペースで区切り，!\"#$%&といった記号を除去する，すべて小文字化する，などの処理\n",
        "# https://pytorch.org/text/stable/data_utils.html\n",
        "tokenizer = get_tokenizer(\"basic_english\")\n",
        "\n",
        "counter = Counter()\n",
        "\n",
        "for label, line in train_iter:\n",
        "    counter.update(tokenizer(line))\n",
        "\n",
        "vocabulary = vocab(\n",
        "    counter,\n",
        "    min_freq=25,\n",
        "    specials=('<unk>', '<PAD>', '<BOS>', '<EOS>')\n",
        ")\n",
        "# <unk>をデフォルトに設定することにより，min_freq回以上出てこない単語は<unk>になる\n",
        "vocabulary.set_default_index(vocabulary['<unk>'])\n",
        "\n",
        "word_num = len(vocabulary)\n",
        "\n",
        "print(f\"単語種数: {word_num}\")\n",
        "print(*vocabulary.get_itos()[:100], sep=', ')"
      ]
    },
    {
      "cell_type": "markdown",
      "metadata": {
        "id": "6eXWV-W9fsJ2"
      },
      "source": [
        "`text_transform()`を`collate_batch()`から呼び，単語のリストを辞書内インデックスのリストに変換します．"
      ]
    },
    {
      "cell_type": "code",
      "execution_count": null,
      "metadata": {
        "id": "waztS-jcwNjv"
      },
      "outputs": [],
      "source": [
        "def text_transform(_text, max_length=256):\n",
        "    # <BOS>と<EOS>の分 -2\n",
        "    text = [vocabulary[token] for token in tokenizer(_text)][:max_length - 2]\n",
        "    text = [vocabulary['<BOS>']] + text + [vocabulary['<EOS>']]\n",
        "\n",
        "    return text, len(text)\n",
        "\n",
        "def collate_batch(batch):\n",
        "   label_list, text_list, len_seq_list = [], [], []\n",
        "\n",
        "   for _label, _text in batch:\n",
        "      # torchtext==0.14.0まではnegativeは'neg', positiveは'pos'\n",
        "      # torchtext==0.15.1からはnegativeは1，positiveは2なので，-1して{0, 1}にする\n",
        "      label_list.append(_label - 1)\n",
        "\n",
        "      processed_text, len_seq = text_transform(_text)\n",
        "      text_list.append(torch.tensor(processed_text))\n",
        "      len_seq_list.append(len_seq)\n",
        "\n",
        "   return torch.tensor(label_list), pad_sequence(text_list, padding_value=1).T, torch.tensor(len_seq_list)"
      ]
    },
    {
      "cell_type": "markdown",
      "metadata": {
        "id": "A4wrvRPx_k4H"
      },
      "source": [
        "上で定義した`collate_batch()`を`DataLoader`に渡すことで，バッチに対してその処理を適用することができます．"
      ]
    },
    {
      "cell_type": "code",
      "execution_count": null,
      "metadata": {
        "id": "-zNihuaPSuNl"
      },
      "outputs": [],
      "source": [
        "batch_size = 128\n",
        "\n",
        "train_dataloader = DataLoader(\n",
        "   list(train_iter),\n",
        "   batch_size=batch_size,\n",
        "   shuffle=True,\n",
        "   collate_fn=collate_batch\n",
        ")\n",
        "valid_dataloader = DataLoader(\n",
        "   list(valid_iter),\n",
        "   batch_size=batch_size,\n",
        "   shuffle=False,\n",
        "   collate_fn=collate_batch\n",
        ")"
      ]
    },
    {
      "cell_type": "markdown",
      "metadata": {
        "id": "G-laa4YqQRji"
      },
      "source": [
        "## 2. 訓練実行(trainer)関数の定義\n",
        "\n",
        "以降定義するすべてのモデルについて訓練ループは同じなので，ここで関数として実装してしまいます．"
      ]
    },
    {
      "cell_type": "code",
      "execution_count": null,
      "metadata": {
        "id": "qmcVzxAvQbdJ"
      },
      "outputs": [],
      "source": [
        "# NOTE: dataloaderはグローバルスコープ\n",
        "def train(\n",
        "    net,\n",
        "    optimizer,\n",
        "    n_epochs,\n",
        "):\n",
        "    for epoch in range(n_epochs):\n",
        "        losses_train = []\n",
        "        losses_valid = []\n",
        "\n",
        "        net.train()\n",
        "        n_train = 0\n",
        "        acc_train = 0\n",
        "        for label, line, len_seq in train_dataloader:\n",
        "            net.zero_grad()  # 勾配の初期化\n",
        "\n",
        "            t = label.to(device) # テンソルをGPUに移動\n",
        "            x = line.to(device) # ( batch, time )\n",
        "            len_seq.to(device)\n",
        "\n",
        "            h = net(x, torch.max(len_seq), len_seq)\n",
        "            y = torch.sigmoid(h).squeeze()\n",
        "\n",
        "            loss = -torch.mean(t * torch_log(y) + (1 - t) * torch_log(1 - y))\n",
        "\n",
        "            loss.backward()  # 誤差の逆伝播\n",
        "\n",
        "            optimizer.step()  # パラメータの更新\n",
        "\n",
        "            losses_train.append(loss.tolist())\n",
        "\n",
        "            n_train += t.size()[0]\n",
        "\n",
        "        # Valid\n",
        "        t_valid = []\n",
        "        y_pred = []\n",
        "        net.eval()\n",
        "        for label, line, len_seq in valid_dataloader:\n",
        "\n",
        "            t = label.to(device) # テンソルをGPUに移動\n",
        "            x = line.to(device)\n",
        "            len_seq.to(device)\n",
        "\n",
        "            h = net(x, torch.max(len_seq), len_seq)\n",
        "            y = torch.sigmoid(h).squeeze()\n",
        "\n",
        "            loss = -torch.mean(t*torch_log(y) + (1 - t)*torch_log(1 - y))\n",
        "\n",
        "            pred = y.round().squeeze()  # 0.5以上の値を持つ要素を正ラベルと予測する\n",
        "\n",
        "            t_valid.extend(t.tolist())\n",
        "            y_pred.extend(pred.tolist())\n",
        "\n",
        "            losses_valid.append(loss.tolist())\n",
        "\n",
        "        print('EPOCH: {}, Train Loss: {:.3f}, Valid Loss: {:.3f}, Validation F1: {:.3f}'.format(\n",
        "            epoch,\n",
        "            np.mean(losses_train),\n",
        "            np.mean(losses_valid),\n",
        "            f1_score(t_valid, y_pred, average='macro')\n",
        "        ))"
      ]
    },
    {
      "cell_type": "markdown",
      "metadata": {
        "id": "p5oyIOujKBy0"
      },
      "source": [
        "## 課題1. Recurrent Neural Network (RNN) によるIMDbのsentiment analysis"
      ]
    },
    {
      "cell_type": "markdown",
      "metadata": {
        "id": "Urh6GUOQKBzE"
      },
      "source": [
        "### 1. Embedding層\n",
        "\n",
        "`Embedding`層では，単語を離散的なidから連続的な数百次元のベクトルに変換(埋め込み; embedding)します．\n",
        "\n",
        "下の`Embedding`クラスにおいて，入力$\\boldsymbol{x}$は各行に文の単語のid列が入った行列で，重み$\\boldsymbol{V}$は各行がそれぞれの単語idのベクトルに対応した行列です．\n",
        "\n",
        "つまりそれぞれの行列のサイズは\n",
        "\n",
        "- $\\boldsymbol{x}$: (ミニバッチサイズ) x (ミニバッチ内の文の最大系列長)\n",
        "- $\\boldsymbol{V}$: (辞書の単語数) x (単語のベクトルの次元数)\n",
        "\n",
        "です．\n",
        "\n",
        "この$\\boldsymbol{V}$から，入力$\\boldsymbol{x}$のそれぞれの単語idに対して対応する単語ベクトルを取り出すことで，各単語をベクトルに変換します．\n",
        "\n",
        "この処理によって出力されるテンソルの次元数は，(ミニバッチサイズ) x (ミニバッチ内の文の最大系列長) x (単語のベクトルの次元数)となります．\n",
        "\n",
        "$$m:\\text{emb_dim}, \\ n : \\text{vocab_size}$$\n"
      ]
    },
    {
      "cell_type": "code",
      "execution_count": null,
      "metadata": {
        "id": "xsrziOUkFX07"
      },
      "outputs": [],
      "source": [
        "class Embedding(nn.Module):\n",
        "    def __init__(self, emb_dim, vocab_size):\n",
        "        super().__init__()\n",
        "        self.embedding_matrix = nn.Parameter(torch.rand((vocab_size, emb_dim),\n",
        "                                                        dtype=torch.float))\n",
        "\n",
        "    def forward(self, x):\n",
        "        return F.embedding(x, self.embedding_matrix)"
      ]
    },
    {
      "cell_type": "markdown",
      "metadata": {
        "id": "ZNPaK9ExKBzI"
      },
      "source": [
        "### 2. RNN\n",
        "\n",
        "RNNクラスでは，Embedding層で各単語がベクトルに変換されたものを入力として処理を行います．ここで入力$\\boldsymbol{x}$は\n",
        "\n",
        "- $\\boldsymbol{x}$: (ミニバッチサイズ) x (ミニバッチ内の文の最大系列長) x (単語のベクトルの次元数)\n",
        "\n",
        "となっています．\n",
        "\n",
        "ここでは `nn.Module` を用いてRNNクラスを定義します．"
      ]
    },
    {
      "cell_type": "code",
      "execution_count": null,
      "metadata": {
        "id": "Qq01kXOFw3hD"
      },
      "outputs": [],
      "source": [
        "class RNN(nn.Module):\n",
        "    def __init__(self, in_dim, hid_dim):\n",
        "        super().__init__()\n",
        "        self.hid_dim = hid_dim\n",
        "        glorot = 6 / (in_dim + hid_dim*2)\n",
        "        self.W = nn.Parameter(torch.tensor(np.random.uniform(\n",
        "                        low=-np.sqrt(glorot),\n",
        "                        high=np.sqrt(glorot),\n",
        "                        size=(in_dim + hid_dim, hid_dim)\n",
        "                    ).astype('float32')))\n",
        "        self.b = nn.Parameter(torch.tensor(np.zeros([hid_dim]).astype('float32')))\n",
        "\n",
        "    def function(self, h, x):\n",
        "        return torch.tanh(torch.matmul(torch.cat([h, x], dim=1), self.W) + self.b)\n",
        "\n",
        "    def forward(self, x, len_seq_max=0, init_state=None):\n",
        "        x = x.transpose(0, 1)  # 系列のバッチ処理のため、次元の順番を「系列、バッチ」の順に入れ替える\n",
        "        state = init_state\n",
        "\n",
        "        if init_state is None:  # 初期値を設定しない場合は0で初期化する\n",
        "            state = torch.zeros((x[0].size()[0], self.hid_dim)).to(x.device)\n",
        "\n",
        "        size = list(state.unsqueeze(0).size())\n",
        "        size[0] = 0\n",
        "        output = torch.empty(size, dtype=torch.float).to(x.device)  # 一旦空テンソルを定義して順次出力を追加する\n",
        "\n",
        "        if len_seq_max == 0:\n",
        "            len_seq_max = x.size(0)\n",
        "        for i in range(len_seq_max):\n",
        "            state = self.function(state, x[i])\n",
        "            output = torch.cat([output, state.unsqueeze(0)])  # 出力系列の追加\n",
        "        return output"
      ]
    },
    {
      "cell_type": "markdown",
      "metadata": {
        "id": "2O0bZWqVOVk0"
      },
      "source": [
        "### 3. 分類器"
      ]
    },
    {
      "cell_type": "code",
      "execution_count": null,
      "metadata": {
        "id": "YpDGYK_rEcVS"
      },
      "outputs": [],
      "source": [
        "class SequenceTaggingNet(nn.Module):\n",
        "    def __init__(self, word_num, emb_dim, hid_dim):\n",
        "        super().__init__()\n",
        "        self.emb = Embedding(emb_dim, word_num)\n",
        "        self.rnn = RNN(emb_dim, hid_dim)\n",
        "        self.linear = nn.Linear(hid_dim, 1)\n",
        "\n",
        "    def forward(self, x, len_seq_max=0, len_seq=None, init_state=None):\n",
        "        h = self.emb(x)\n",
        "        h = self.rnn(h, len_seq_max, init_state)\n",
        "        if len_seq is not None:\n",
        "            # 系列が終わった時点での出力を取る必要があるので len_seq を元に集約する\n",
        "            h = h[len_seq - 1, list(range(len(x))), :]\n",
        "        else:\n",
        "            h = h[-1]\n",
        "        y = self.linear(h)\n",
        "        return y"
      ]
    },
    {
      "cell_type": "markdown",
      "metadata": {
        "id": "emiO4f5rCklA"
      },
      "source": [
        "### 4. 学習"
      ]
    },
    {
      "cell_type": "code",
      "execution_count": null,
      "metadata": {
        "colab": {
          "base_uri": "https://localhost:8080/"
        },
        "id": "NF1oS8scU160",
        "outputId": "834e3f27-ccf4-4009-d26f-ce5b405dc456"
      },
      "outputs": [],
      "source": [
        "emb_dim = 100\n",
        "hid_dim = 50\n",
        "n_epochs = 10\n",
        "device = 'cuda'\n",
        "\n",
        "net = SequenceTaggingNet(word_num, emb_dim, hid_dim)\n",
        "net.to(device)\n",
        "\n",
        "optimizer = optim.Adam(net.parameters())\n",
        "\n",
        "train(net, optimizer, n_epochs)"
      ]
    },
    {
      "cell_type": "markdown",
      "metadata": {
        "id": "yCktWJ9N8QDN"
      },
      "source": [
        "### 5. `torch.nn.RNN`, `torch.nn.Embedding` を用いたネットワークの記述\n",
        "\n",
        "`torch.nn.Conv2d`を用いてCNN層を容易に実装することができたように，`torch.nn.RNN`を用いることで容易にRNN層を実装することができます．\n",
        "\n",
        "`torch.nn.RNN`は，系列データ $x$ と初期状態 $h_0$ を引数として受け取り，出力系列 $y$ と最終状態 $h$ を出力します．（`y, h = self.RNN(x, h_0)`）\n",
        "\n",
        "また，少し厄介なことに`nn.RNN`の入力の系列データは，デフォルトで次元が [系列，ミニバッチ，各要素のベクトル] の順番となっています．しかしながら，データローダーが与えるデータは [ミニバッチ，系列，各要素] の順番となっており，この順番の方が直感的であると考えられます．これを解決するため，`torch.nn.RNN`は引数`batch_first`を受け取ることができ，これを`True`にすることで入力系列を [ミニバッチ，系列，各要素] の順番で受け取ることができます．\n",
        "\n",
        "`batch_first=True`とすると出力の順番も入れ替わるので，`transpose`を用いて [系列，ミニバッチ，各要素のベクトル] としてから`len_seq`を元に最終出力を取り出します．\n",
        "\n",
        "さらに，`torch.nn.RNN`は引数`num_layers`を持ち，RNNを何層重ねるかを指定します．多層に重ねることもできますが，ここでは課題2の実装と揃えるため一層とします．\n",
        "\n",
        "また，`torch.nn.Embedding`を用いることでEmbedding層も容易に実装することができます．"
      ]
    },
    {
      "cell_type": "code",
      "execution_count": null,
      "metadata": {
        "id": "Xou_yoP8Uxrs"
      },
      "outputs": [],
      "source": [
        "class SequenceTaggingNet2(nn.Module):\n",
        "    def __init__(self, word_num, emb_dim, hid_dim):\n",
        "        super().__init__()\n",
        "        self.emb = nn.Embedding(word_num, emb_dim)  # nn.Embeddingの使用\n",
        "        self.rnn = nn.RNN(emb_dim, hid_dim, 1, batch_first=True)  # nn.RNNの使用\n",
        "        self.linear = nn.Linear(hid_dim, 1)\n",
        "\n",
        "    def forward(self, x, len_seq_max=0, len_seq=None, init_state=None):\n",
        "        h = self.emb(x)\n",
        "        if len_seq_max > 0:\n",
        "            h, _ = self.rnn(h[:, 0:len_seq_max, :], init_state)\n",
        "        else:\n",
        "            h, _ = self.rnn(h, init_state)\n",
        "        h = h.transpose(0, 1)\n",
        "        if len_seq is not None:\n",
        "            # 系列が終わった時点での出力を取る必要があるので len_seq を元に集約する\n",
        "            h = h[len_seq - 1, list(range(len(x))), :]\n",
        "        else:\n",
        "            h = h[-1]\n",
        "        y = self.linear(h)\n",
        "\n",
        "        return y"
      ]
    },
    {
      "cell_type": "code",
      "execution_count": null,
      "metadata": {
        "colab": {
          "base_uri": "https://localhost:8080/"
        },
        "id": "hlab8ft3U0Fq",
        "outputId": "ed80b81f-32e4-474c-a78f-04065a41f3df"
      },
      "outputs": [],
      "source": [
        "emb_dim = 100\n",
        "hid_dim = 50\n",
        "n_epochs = 10\n",
        "device = 'cuda'\n",
        "\n",
        "net = SequenceTaggingNet2(word_num, emb_dim, hid_dim)\n",
        "net.to(device)\n",
        "\n",
        "optimizer = optim.Adam(net.parameters())\n",
        "\n",
        "train(net, optimizer, n_epochs)"
      ]
    },
    {
      "cell_type": "markdown",
      "metadata": {
        "id": "RzcDxaEvmu_g"
      },
      "source": [
        "## 課題2. Long short-term memory (LSTM)"
      ]
    },
    {
      "cell_type": "markdown",
      "metadata": {
        "id": "tsXtYkNEm1Bh"
      },
      "source": [
        "### 1. LSTM\n",
        "\n",
        "実装する式は次のようになります．($\\odot$は要素ごとの積)\n",
        "\n",
        "- 入力ゲート: $\\hspace{20mm}\\boldsymbol{i}_t = \\mathrm{\\sigma} \\left(\\boldsymbol{W}_i \\left[\\begin{array}{c} \\boldsymbol{x}_t \\\\ \\boldsymbol{h}_{t-1} \\end{array}\\right] + \\boldsymbol{b}_i\\right)$\n",
        "- 忘却ゲート: $\\hspace{20mm}\\boldsymbol{f}_t = \\mathrm{\\sigma} \\left(\\boldsymbol{W}_f \\left[\\begin{array}{c} \\boldsymbol{x}_t \\\\ \\boldsymbol{h}_{t-1} \\end{array}\\right] + \\boldsymbol{b}_f\\right)$\n",
        "- 出力ゲート: $\\hspace{20mm}\\boldsymbol{o}_t = \\mathrm{\\sigma} \\left(\\boldsymbol{W}_o \\left[\\begin{array}{c} \\boldsymbol{x}_t \\\\ \\boldsymbol{h}_{t-1} \\end{array}\\right] + \\boldsymbol{b}_o\\right)$\n",
        "- セル:　　　 $\\hspace{20mm}\\boldsymbol{c}_t = \\boldsymbol{f}_t \\odot \\boldsymbol{c}_{t-1} + \\boldsymbol{i}_t \\odot \\tanh \\left(\\boldsymbol{W}_c \\left[\\begin{array}{c} \\boldsymbol{x}_t \\\\ \\boldsymbol{h}_{t-1} \\end{array}\\right] + \\boldsymbol{b}_c\\right)$\n",
        "- 隠れ状態: 　$\\hspace{20mm}\\boldsymbol{h}_t = \\boldsymbol{o}_t \\odot \\tanh \\left(\\boldsymbol{c}_t \\right)$\n",
        "\n",
        "単純なRNNでは各ステップの関数の戻り値は隠れ状態のみ ($\\boldsymbol{h}_t$) でしたが，LSTMではセル状態と隠れ状態の2つ ($\\boldsymbol{c}_t, \\boldsymbol{h}_t$) となるので注意してください．"
      ]
    },
    {
      "cell_type": "code",
      "execution_count": null,
      "metadata": {
        "id": "0Zp__4EDBoJ3"
      },
      "outputs": [],
      "source": [
        "class LSTM(nn.Module):\n",
        "    def __init__(self, in_dim, hid_dim):\n",
        "        super().__init__()\n",
        "        self.hid_dim = hid_dim\n",
        "        glorot = 6/(in_dim + hid_dim*2)\n",
        "\n",
        "        self.W_i = nn.Parameter(torch.tensor(np.random.uniform(\n",
        "                        low=-np.sqrt(glorot),\n",
        "                        high=np.sqrt(glorot),\n",
        "                        size=(in_dim + hid_dim, hid_dim)\n",
        "                    ).astype('float32')))\n",
        "        self.b_i = nn.Parameter(torch.tensor(np.zeros([hid_dim]).astype('float32')))\n",
        "\n",
        "        self.W_f = nn.Parameter(torch.tensor(np.random.uniform(\n",
        "                        low=-np.sqrt(glorot),\n",
        "                        high=np.sqrt(glorot),\n",
        "                        size=(in_dim + hid_dim, hid_dim)\n",
        "                    ).astype('float32')))\n",
        "        self.b_f = nn.Parameter(torch.tensor(np.zeros([hid_dim]).astype('float32')))\n",
        "\n",
        "        self.W_o = nn.Parameter(torch.tensor(np.random.uniform(\n",
        "                        low=-np.sqrt(glorot),\n",
        "                        high=np.sqrt(glorot),\n",
        "                        size=(in_dim + hid_dim, hid_dim)\n",
        "                    ).astype('float32')))\n",
        "        self.b_o = nn.Parameter(torch.tensor(np.zeros([hid_dim]).astype('float32')))\n",
        "\n",
        "        self.W_c = nn.Parameter(torch.tensor(np.random.uniform(\n",
        "                        low=-np.sqrt(glorot),\n",
        "                        high=np.sqrt(glorot),\n",
        "                        size=(in_dim + hid_dim, hid_dim)\n",
        "                    ).astype('float32')))\n",
        "        self.b_c = nn.Parameter(torch.tensor(np.zeros([hid_dim]).astype('float32')))\n",
        "\n",
        "    def function(self, state_c, state_h, x):\n",
        "        i = torch.sigmoid(torch.matmul(torch.cat([state_h, x], dim=1), self.W_i) + self.b_i)\n",
        "        f = torch.sigmoid(torch.matmul(torch.cat([state_h, x], dim=1), self.W_f) + self.b_f)\n",
        "        o = torch.sigmoid(torch.matmul(torch.cat([state_h, x], dim=1), self.W_o) + self.b_o)\n",
        "        c = f*state_c + i*torch.tanh(torch.matmul(torch.cat([state_h, x], dim=1), self.W_c) + self.b_c)\n",
        "        h = o*torch.tanh(c)\n",
        "        return c, h\n",
        "\n",
        "    def forward(self, x, len_seq_max=0, init_state_c=None, init_state_h=None):\n",
        "        x = x.transpose(0, 1)  # 系列のバッチ処理のため、次元の順番を「系列、バッチ」の順に入れ替える\n",
        "        state_c = init_state_c\n",
        "        state_h = init_state_h\n",
        "        if init_state_c is None:  # 初期値を設定しない場合は0で初期化する\n",
        "            state_c = torch.zeros((x[0].size()[0], self.hid_dim)).to(x.device)\n",
        "        if init_state_h is None:  # 初期値を設定しない場合は0で初期化する\n",
        "            state_h = torch.zeros((x[0].size()[0], self.hid_dim)).to(x.device)\n",
        "\n",
        "        size = list(state_h.unsqueeze(0).size())\n",
        "        size[0] = 0\n",
        "        output = torch.empty(size, dtype=torch.float).to(x.device)  # 一旦空テンソルを定義して順次出力を追加する\n",
        "\n",
        "        if len_seq_max == 0:\n",
        "            len_seq_max = x.size(0)\n",
        "        for i in range(len_seq_max):\n",
        "            state_c, state_h = self.function(state_c, state_h, x[i])\n",
        "            output = torch.cat([output, state_h.unsqueeze(0)])  # 出力系列の追加\n",
        "        return output"
      ]
    },
    {
      "cell_type": "markdown",
      "metadata": {
        "id": "IfHaLvJJWHeI"
      },
      "source": [
        "### 2. 分類器"
      ]
    },
    {
      "cell_type": "code",
      "execution_count": null,
      "metadata": {
        "id": "mU-z8OtZu_cO"
      },
      "outputs": [],
      "source": [
        "class SequenceTaggingNet3(nn.Module):\n",
        "    def __init__(self, word_num, emb_dim, hid_dim):\n",
        "        super().__init__()\n",
        "        self.emb = Embedding(emb_dim, word_num)\n",
        "        self.lstm = LSTM(emb_dim, hid_dim)\n",
        "        self.linear = nn.Linear(hid_dim, 1)\n",
        "\n",
        "    def forward(self, x, len_seq_max=0, len_seq=None, init_state=None):\n",
        "        h = self.emb(x)\n",
        "        h = self.lstm(h, len_seq_max, init_state)\n",
        "        if len_seq is not None:\n",
        "            # 系列が終わった時点での出力を取る必要があるので len_seq を元に集約する\n",
        "            h = h[len_seq - 1, list(range(len(x))), :]\n",
        "        else:\n",
        "            h = h[-1]\n",
        "        y = self.linear(h)\n",
        "        return y"
      ]
    },
    {
      "cell_type": "markdown",
      "metadata": {
        "id": "qR2iKUy7yA3R"
      },
      "source": [
        "### 3. 学習\n",
        "\n",
        "同じタスクを用いてRNNとLSTMの性能を比較します．"
      ]
    },
    {
      "cell_type": "code",
      "execution_count": null,
      "metadata": {
        "colab": {
          "base_uri": "https://localhost:8080/"
        },
        "id": "OAyD__D8vLvi",
        "outputId": "75e539ac-bf00-4241-a4f2-346dd7583bb1"
      },
      "outputs": [],
      "source": [
        "emb_dim = 100\n",
        "hid_dim = 50\n",
        "n_epochs = 5\n",
        "device = 'cuda'\n",
        "\n",
        "net = SequenceTaggingNet3(word_num, emb_dim, hid_dim)\n",
        "net.to(device)\n",
        "optimizer = optim.Adam(net.parameters())\n",
        "\n",
        "train(net, optimizer, n_epochs)"
      ]
    },
    {
      "cell_type": "markdown",
      "metadata": {
        "id": "thf8W0lywagD"
      },
      "source": [
        "### 4. `nn.LSTM`を用いたネットワークの記述\n",
        "\n",
        "LSTMもRNNと同様に`nn.LSTM`を用いて実装することができます．"
      ]
    },
    {
      "cell_type": "code",
      "execution_count": null,
      "metadata": {
        "id": "dXqI364xviGx"
      },
      "outputs": [],
      "source": [
        "class SequenceTaggingNet4(nn.Module):\n",
        "    def __init__(self, word_num, emb_dim, hid_dim):\n",
        "        super().__init__()\n",
        "        self.emb = nn.Embedding(word_num, emb_dim)\n",
        "        self.lstm = nn.LSTM(emb_dim, hid_dim, 1, batch_first=True)  # nn.LSTMの使用\n",
        "        self.linear = nn.Linear(hid_dim, 1)\n",
        "\n",
        "    def forward(self, x, len_seq_max=0, len_seq=None, init_state=None):\n",
        "        h = self.emb(x)\n",
        "        if len_seq_max > 0:\n",
        "            h, _ = self.lstm(h[:, 0:len_seq_max, :], init_state)\n",
        "        else:\n",
        "            h, _ = self.lstm(h, init_state)\n",
        "        h = h.transpose(0, 1)\n",
        "        if len_seq is not None:\n",
        "            h = h[len_seq - 1, list(range(len(x))), :]\n",
        "        else:\n",
        "            h = h[-1]\n",
        "        y = self.linear(h)\n",
        "\n",
        "        return y"
      ]
    },
    {
      "cell_type": "code",
      "execution_count": null,
      "metadata": {
        "colab": {
          "base_uri": "https://localhost:8080/"
        },
        "id": "s6D8KzZcw0pv",
        "outputId": "4a77dce4-ae15-42b3-c0a7-e47e598cd744"
      },
      "outputs": [],
      "source": [
        "emb_dim = 100\n",
        "hid_dim = 50\n",
        "n_epochs = 10\n",
        "device = 'cuda'\n",
        "\n",
        "net = SequenceTaggingNet4(word_num, emb_dim, hid_dim)\n",
        "net.to(device)\n",
        "optimizer = optim.Adam(net.parameters())\n",
        "\n",
        "train(net, optimizer, n_epochs)"
      ]
    },
    {
      "cell_type": "markdown",
      "metadata": {
        "id": "Zj0XA0PQP0gG"
      },
      "source": [
        "## 課題3. 双方向LSTM"
      ]
    },
    {
      "cell_type": "markdown",
      "metadata": {
        "id": "L9ZNn5gTP2yH"
      },
      "source": [
        "### 1. BidirectionalLSTM\n",
        "\n",
        "双方向LSTMでは，順方向にシークエンスを処理するLSTM（`self.forward_lstm`）と逆方向にシークエンスを処理するLSTM（`self.backward_lstm`）を別々に用意し，それぞれの出力を結合したものを全結合層へ渡します．\n",
        "これによりパラメータ数は増えますが，未来方向からの文脈も考慮した予測を行うことができるようになります．\n",
        "\n",
        "[nn.LSTM](https://pytorch.org/docs/stable/generated/torch.nn.LSTM.html)において`bidirectional=True`とするだけで実現できますが，ここではその処理を理解するために実装を行います．\n",
        "\n",
        "- ここではこれまで`SequenceTaggingNet`として実装してきた分類器も含めて`BidirectionalLSTM`クラスとしています．（実装上どちらでも構わない）"
      ]
    },
    {
      "cell_type": "code",
      "execution_count": null,
      "metadata": {
        "id": "XefPHJEyP5vY"
      },
      "outputs": [],
      "source": [
        "class BidirectionalLSTM(nn.Module):\n",
        "    def __init__(self, word_num, emb_dim, hid_dim):\n",
        "        super().__init__()\n",
        "        # 順方向と逆方向のLSTMを用意する\n",
        "        self.emb = nn.Embedding(word_num, emb_dim)\n",
        "        self.forward_lstm = nn.LSTM(emb_dim, hid_dim, 1, batch_first=True)\n",
        "        self.backward_lstm = nn.LSTM(emb_dim, hid_dim, 1, batch_first=True)\n",
        "        self.linear = nn.Linear(hid_dim*2, 1) # ForwardとBackwardの出力をconcatしたものを渡すので2倍\n",
        "\n",
        "    def forward(self, x, len_seq_max=0, len_seq=None, init_state=None):\n",
        "        h = self.emb(x) # (batch_size, seq_length, emb_dim)\n",
        "\n",
        "        # Backwardにはシークエンスを反転して渡す\n",
        "        if len_seq_max > 0:\n",
        "            h1, _ = self.forward_lstm(h[:, 0:len_seq_max, :], init_state)\n",
        "            h2, _ = self.backward_lstm(torch.flip(h[:, 0:len_seq_max, :], dims=[1]), init_state)\n",
        "        else:\n",
        "            h1, _ = self.forward_lstm(h, init_state) # (batch_size, seq_length, hid_dim)\n",
        "            h2, _ = self.backward_lstm(torch.flip(h, dims=[1]), init_state) # (batch_size, seq_length, hid_dim)\n",
        "        # Backwardから返ってきたものを再び反転する\n",
        "        h2 = torch.flip(h2, dims=[1])\n",
        "\n",
        "        # ForwardとBackwardの出力を結合\n",
        "        h = torch.cat([h1, h2], dim=2).transpose(0, 1)\n",
        "\n",
        "        if len_seq is not None:\n",
        "            h = h[len_seq - 1, list(range(len(x))), :]\n",
        "        else:\n",
        "            h = h[-1]\n",
        "\n",
        "        y = self.linear(h)\n",
        "\n",
        "        return y"
      ]
    },
    {
      "cell_type": "markdown",
      "metadata": {
        "id": "1xbAI25fQA2E"
      },
      "source": [
        "### 2. 学習\n",
        "\n",
        "Bidirectional LSTMでも同じタスクを行います．"
      ]
    },
    {
      "cell_type": "code",
      "execution_count": null,
      "metadata": {
        "colab": {
          "base_uri": "https://localhost:8080/"
        },
        "id": "3UJx334FQBbK",
        "outputId": "8bf4d717-f5ab-4b1e-b203-808a06cd1621"
      },
      "outputs": [],
      "source": [
        "emb_dim = 100\n",
        "hid_dim = 50\n",
        "n_epochs = 10\n",
        "device = 'cuda'\n",
        "\n",
        "net = BidirectionalLSTM(word_num, emb_dim, hid_dim)\n",
        "net.to(device)\n",
        "optimizer = optim.Adam(net.parameters())\n",
        "\n",
        "train(net, optimizer, n_epochs)"
      ]
    },
    {
      "cell_type": "markdown",
      "metadata": {
        "id": "ExuiSiTo2k3m"
      },
      "source": [
        "## 【補足】Gradient Clippingによる長系列への対処\n",
        "\n",
        "LSTMは長系列に対しても学習がうまく行きやすいモデルでしたが，一般のRNNにおける長系列の学習の工夫として，**Gradient Clipping**に触れておきます．\n",
        "\n",
        "RNNでは誤差逆伝播法が特に**Back Propagation Through Time (BPTT)**と呼ばれるものになり，各層のみならず各時点の勾配が乗算されます．\n",
        "\n",
        "そのため，通常よりも勾配が過大（或いは過小）になりやすいという特徴をもっています．\n",
        "\n",
        "こうした現象を**勾配爆発（消失）**と呼びますが，勾配爆発は学習を不安定化し収束を困難にします．\n",
        "\n",
        "<figure align='center'><img src='https://github.com/SeanNobel/dl-basics/blob/main/gradient_clipping.png?raw=True' width='50%'><figcaption>Gradient Clipping</figcaption></figure>\n",
        "\n",
        "出典：Ian Goodfellow et. al, “Deep Learning”, MIT press, 2016 (http://www.deeplearningbook.org/)\n",
        "\n",
        "そこで，勾配の大きさを意図的に制限して対処しようというのが，Gradient Clippingと呼ばれる手法です．\n",
        "\n",
        "以下のように，`torch.nn.utils.clip_grad_norm_(parameters, max_norm)`を用いることで勾配をclippingすることができます．\n",
        "\n",
        "この関数はparametersにmodelのパラメータ，max_normに勾配の絶対値の最大値を取ることで用いることができます．"
      ]
    },
    {
      "cell_type": "code",
      "execution_count": null,
      "metadata": {
        "id": "Lpu3TlsbxAuK"
      },
      "outputs": [],
      "source": [
        "def train_gradient_clipping(\n",
        "    net,\n",
        "    optimizer,\n",
        "    n_epochs,\n",
        "):\n",
        "    for epoch in range(n_epochs):\n",
        "        losses_train = []\n",
        "        losses_valid = []\n",
        "\n",
        "        net.train()\n",
        "        n_train = 0\n",
        "        acc_train = 0\n",
        "        for label, line, len_seq in train_dataloader:\n",
        "\n",
        "            net.zero_grad()\n",
        "\n",
        "            t = label.to(device)  # テンソルをGPUに移動\n",
        "            x = line.to(device) # ( batch, time )\n",
        "            len_seq.to(device)\n",
        "\n",
        "            h = net(x, torch.max(len_seq), len_seq)\n",
        "            y = torch.sigmoid(h).squeeze()\n",
        "\n",
        "            loss = -torch.mean(t*torch_log(y) + (1 - t)*torch_log(1 - y))\n",
        "\n",
        "            loss.backward()\n",
        "\n",
        "            # 勾配を絶対値1.0でクリッピングする\n",
        "            torch.nn.utils.clip_grad_norm_(net.parameters(), 1.0)\n",
        "\n",
        "            optimizer.step()\n",
        "\n",
        "            losses_train.append(loss.tolist())\n",
        "\n",
        "            n_train += t.size()[0]\n",
        "\n",
        "        t_valid = []\n",
        "        y_pred = []\n",
        "        net.eval()\n",
        "        for label, line, len_seq in valid_dataloader:\n",
        "\n",
        "            t = label.to(device)  # テンソルをGPUに移動\n",
        "            x = line.to(device) # ( batch, time )\n",
        "            len_seq.to(device)\n",
        "\n",
        "            h = net(x, torch.max(len_seq), len_seq)\n",
        "            y = torch.sigmoid(h).squeeze()\n",
        "\n",
        "            loss = -torch.mean(t*torch_log(y) + (1 - t)*torch_log(1 - y))\n",
        "\n",
        "            pred = y.round().squeeze()\n",
        "\n",
        "            t_valid.extend(t.tolist())\n",
        "            y_pred.extend(pred.tolist())\n",
        "\n",
        "            losses_valid.append(loss.tolist())\n",
        "\n",
        "        print('EPOCH: {}, Train Loss: {:.3f}, Valid Loss: {:.3f}, Validation F1: {:.3f}'.format(\n",
        "            epoch,\n",
        "            np.mean(losses_train),\n",
        "            np.mean(losses_valid),\n",
        "            f1_score(t_valid, y_pred, average='macro')\n",
        "        ))"
      ]
    },
    {
      "cell_type": "code",
      "execution_count": null,
      "metadata": {
        "colab": {
          "base_uri": "https://localhost:8080/"
        },
        "id": "9MbcEGef5okD",
        "outputId": "04ca1356-6071-4c8f-af41-087434a07d6b"
      },
      "outputs": [],
      "source": [
        "emb_dim = 100\n",
        "hid_dim = 50\n",
        "n_epochs = 10\n",
        "device = 'cuda'\n",
        "\n",
        "net = SequenceTaggingNet2(word_num, emb_dim, hid_dim)\n",
        "net.to(device)\n",
        "optimizer = optim.Adam(net.parameters())\n",
        "\n",
        "train_gradient_clipping(net, optimizer, n_epochs)"
      ]
    },
    {
      "cell_type": "code",
      "execution_count": null,
      "metadata": {
        "id": "PWET60FvikgK"
      },
      "outputs": [],
      "source": []
    }
  ],
  "metadata": {
    "accelerator": "GPU",
    "colab": {
      "provenance": [],
      "toc_visible": true
    },
    "kernelspec": {
      "display_name": "nam22",
      "language": "python",
      "name": "python3"
    },
    "language_info": {
      "codemirror_mode": {
        "name": "ipython",
        "version": 3
      },
      "file_extension": ".py",
      "mimetype": "text/x-python",
      "name": "python",
      "nbconvert_exporter": "python",
      "pygments_lexer": "ipython3",
      "version": "3.11.4"
    },
    "vscode": {
      "interpreter": {
        "hash": "4928584a19934792772f8bb8909943c28c334459e9e815fcc970144b80af4840"
      }
    }
  },
  "nbformat": 4,
  "nbformat_minor": 0
}
