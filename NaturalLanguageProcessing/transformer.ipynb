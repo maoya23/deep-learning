{
 "cells": [
  {
   "cell_type": "markdown",
   "metadata": {},
   "source": [
    "#### 自然言語処理の実行手順\n",
    "1. クリーニング - 文章のデータではないノイズの除去\n",
    "1. 正規化 - 全角半角の統一など\n",
    "1. 単語分割 - 文章を単語ごとに区切る\n",
    "1. 基本形への変換 - 「走っ」を「走る」　など\n",
    "1. ストップワード除去 - 助詞など意味を持たない文字を消去\n",
    "1. 単語の数値化　- IDをふったりベクトルに変換する"
   ]
  },
  {
   "cell_type": "code",
   "execution_count": 14,
   "metadata": {},
   "outputs": [],
   "source": [
    "import torch\n",
    "import torch.nn as nn\n",
    "import torchtext\n",
    "import torchdata.datapipes as dp\n",
    "from torchtext.data.utils import get_tokenizer\n",
    "from torchtext.vocab import build_vocab_from_iterator\n",
    "from torch.utils.data import DataLoader, Dataset\n",
    "import torchtext.transforms as T\n",
    "import re\n",
    "from janome.tokenizer import Tokenizer\n",
    "import pandas as pd"
   ]
  },
  {
   "cell_type": "code",
   "execution_count": 15,
   "metadata": {},
   "outputs": [
    {
     "name": "stdout",
     "output_type": "stream",
     "text": [
      "cuda:0\n"
     ]
    }
   ],
   "source": [
    "class Config():\n",
    "    batch_size=128\n",
    "    n_epoch=20\n",
    "    device=torch.device(\"cuda:0\" if torch.cuda.is_available() else \"cpu\")\n",
    "    emb_dim = 100\n",
    "    hid_dim = 50\n",
    "    train_path='./data/text_train.tsv'\n",
    "    valid_path='./data/text_valid.tsv'\n",
    "    test_path='./data/text_test.tsv'\n",
    "config=Config()\n",
    "\n",
    "print(config.device)"
   ]
  },
  {
   "cell_type": "code",
   "execution_count": 16,
   "metadata": {},
   "outputs": [],
   "source": [
    "df_train=pd.read_csv(config.train_path,delimiter='\\t',names=['text','Label'])\n",
    "df_valid=pd.read_csv(config.valid_path,delimiter='\\t',names=['text','Label'])\n",
    "df_test=pd.read_csv(config.test_path,delimiter='\\t',names=['text','Label'])\n"
   ]
  },
  {
   "cell_type": "code",
   "execution_count": 48,
   "metadata": {},
   "outputs": [],
   "source": [
    "class MakeDataLoader():\n",
    "    def __init__(self,df,batch_size=4,train=True):\n",
    "        self.df=df\n",
    "        self.batch_size=batch_size\n",
    "        self.train=train\n",
    "    #tokenize_preprosessでコレを指すのでselfが引数に必要\n",
    "    def tokenizer_janome(self,text):\n",
    "        j_t=Tokenizer()\n",
    "        return [tok for tok in j_t.tokenize(text,wakati=True)]\n",
    "    \n",
    "    def preprocessing_text(self,text):\n",
    "        text=re.sub('\\r', '', text)#改行を消去\n",
    "        text=re.sub('\\n', '', text)\n",
    "        text=re.sub(' ', '', text)#半角スペースを消去\n",
    "        text=re.sub('　', '', text)#全角スペースを消去\n",
    "        text=re.sub(r'[0-9 ０-９]', '0' , text)#数字を一律0に変換\n",
    "\n",
    "        return text\n",
    "    \n",
    "    def tokenize_preprosess(self,text):\n",
    "        text=self.preprocessing_text(text)\n",
    "        ret=self.tokenizer_janome(text)\n",
    "        return ret\n",
    "    \n",
    "    def run_tokenize(self):\n",
    "        self.df['text']=self.df['text'].map(lambda text:' '.join(text))\n",
    "        self.df['text']=self.df['text'].map(lambda text : self.tokenize_preprosess(text))\n",
    "\n",
    "    def make_vocab(self):\n",
    "        self.text_vocab=build_vocab_from_iterator(self.df['text'],specials=('<unk>','<pad>'))\n",
    "        self.text_vocab.set_default_index(self.text_vocab['<unk>'])\n",
    "    \n",
    "    def label_assign(self):\n",
    "        self.df['Label'] = self.df['Label'].astype(str)  # ラベルが数値のため文字型に変換。文字型で指定していた場合はこの処理は不要\n",
    "        self.label_vocab = build_vocab_from_iterator(self.df['Label'])\n",
    "\n",
    "    def make_transform(self):\n",
    "        text_transform=T.Sequential(\n",
    "            T.VocabTransform(self.text_vocab),\n",
    "            T.ToTensor(padding_value=self.text_vocab['<pad>'])\n",
    "            )\n",
    "        label_transform=T.Sequential(\n",
    "            T.VocabTransform(self.label_vocab),\n",
    "            T.ToTensor()\n",
    "        )\n",
    "        return text_transform,label_transform\n",
    "\n",
    "    def collate_batch(self,batch):\n",
    "        texts,_=self.make_transform([text for (text,label) in batch])\n",
    "        _,labels=self.make_transform([label for (text, label) in batch])\n",
    "        return texts,labels\n",
    "\n",
    "    def dataload(self):\n",
    "        return DataLoader(self.df.values,\n",
    "                        batch_size=self.batch_size,\n",
    "                        collate_fn=self.collate_batch)\n",
    "dataloader=MakeDataLoader(df=df_train)\n",
    "dataloader_train=dataloader.dataload()\n",
    "\n",
    "#dataloader の昨日の確認とword2vecの実装までする\n"
   ]
  },
  {
   "cell_type": "code",
   "execution_count": 49,
   "metadata": {},
   "outputs": [
    {
     "ename": "TypeError",
     "evalue": "MakeDataLoader.make_transform() takes 1 positional argument but 2 were given",
     "output_type": "error",
     "traceback": [
      "\u001b[0;31m---------------------------------------------------------------------------\u001b[0m",
      "\u001b[0;31mTypeError\u001b[0m                                 Traceback (most recent call last)",
      "Cell \u001b[0;32mIn[49], line 1\u001b[0m\n\u001b[0;32m----> 1\u001b[0m \u001b[38;5;28;43;01mfor\u001b[39;49;00m\u001b[43m \u001b[49m\u001b[43mi\u001b[49m\u001b[43m \u001b[49m\u001b[43m,\u001b[49m\u001b[43m(\u001b[49m\u001b[43mtexts\u001b[49m\u001b[43m,\u001b[49m\u001b[43mlabels\u001b[49m\u001b[43m)\u001b[49m\u001b[43m \u001b[49m\u001b[38;5;129;43;01min\u001b[39;49;00m\u001b[43m \u001b[49m\u001b[38;5;28;43menumerate\u001b[39;49m\u001b[43m(\u001b[49m\u001b[43mdataloader_train\u001b[49m\u001b[43m)\u001b[49m\u001b[43m:\u001b[49m\n\u001b[1;32m      2\u001b[0m \u001b[43m    \u001b[49m\u001b[38;5;28;43mprint\u001b[39;49m\u001b[43m(\u001b[49m\u001b[43mi\u001b[49m\u001b[43m)\u001b[49m\n\u001b[1;32m      3\u001b[0m \u001b[43m    \u001b[49m\u001b[38;5;28;43;01mfor\u001b[39;49;00m\u001b[43m \u001b[49m\u001b[43mtext\u001b[49m\u001b[43m,\u001b[49m\u001b[43mlabel\u001b[49m\u001b[43m \u001b[49m\u001b[38;5;129;43;01min\u001b[39;49;00m\u001b[43m \u001b[49m\u001b[38;5;28;43mzip\u001b[39;49m\u001b[43m(\u001b[49m\u001b[43mtexts\u001b[49m\u001b[43m,\u001b[49m\u001b[43mlabels\u001b[49m\u001b[43m)\u001b[49m\u001b[43m:\u001b[49m\n",
      "File \u001b[0;32m~/anaconda3/envs/NLP/lib/python3.11/site-packages/torch/utils/data/dataloader.py:630\u001b[0m, in \u001b[0;36m_BaseDataLoaderIter.__next__\u001b[0;34m(self)\u001b[0m\n\u001b[1;32m    627\u001b[0m \u001b[38;5;28;01mif\u001b[39;00m \u001b[38;5;28mself\u001b[39m\u001b[38;5;241m.\u001b[39m_sampler_iter \u001b[38;5;129;01mis\u001b[39;00m \u001b[38;5;28;01mNone\u001b[39;00m:\n\u001b[1;32m    628\u001b[0m     \u001b[38;5;66;03m# TODO(https://github.com/pytorch/pytorch/issues/76750)\u001b[39;00m\n\u001b[1;32m    629\u001b[0m     \u001b[38;5;28mself\u001b[39m\u001b[38;5;241m.\u001b[39m_reset()  \u001b[38;5;66;03m# type: ignore[call-arg]\u001b[39;00m\n\u001b[0;32m--> 630\u001b[0m data \u001b[38;5;241m=\u001b[39m \u001b[38;5;28;43mself\u001b[39;49m\u001b[38;5;241;43m.\u001b[39;49m\u001b[43m_next_data\u001b[49m\u001b[43m(\u001b[49m\u001b[43m)\u001b[49m\n\u001b[1;32m    631\u001b[0m \u001b[38;5;28mself\u001b[39m\u001b[38;5;241m.\u001b[39m_num_yielded \u001b[38;5;241m+\u001b[39m\u001b[38;5;241m=\u001b[39m \u001b[38;5;241m1\u001b[39m\n\u001b[1;32m    632\u001b[0m \u001b[38;5;28;01mif\u001b[39;00m \u001b[38;5;28mself\u001b[39m\u001b[38;5;241m.\u001b[39m_dataset_kind \u001b[38;5;241m==\u001b[39m _DatasetKind\u001b[38;5;241m.\u001b[39mIterable \u001b[38;5;129;01mand\u001b[39;00m \\\n\u001b[1;32m    633\u001b[0m         \u001b[38;5;28mself\u001b[39m\u001b[38;5;241m.\u001b[39m_IterableDataset_len_called \u001b[38;5;129;01mis\u001b[39;00m \u001b[38;5;129;01mnot\u001b[39;00m \u001b[38;5;28;01mNone\u001b[39;00m \u001b[38;5;129;01mand\u001b[39;00m \\\n\u001b[1;32m    634\u001b[0m         \u001b[38;5;28mself\u001b[39m\u001b[38;5;241m.\u001b[39m_num_yielded \u001b[38;5;241m>\u001b[39m \u001b[38;5;28mself\u001b[39m\u001b[38;5;241m.\u001b[39m_IterableDataset_len_called:\n",
      "File \u001b[0;32m~/anaconda3/envs/NLP/lib/python3.11/site-packages/torch/utils/data/dataloader.py:674\u001b[0m, in \u001b[0;36m_SingleProcessDataLoaderIter._next_data\u001b[0;34m(self)\u001b[0m\n\u001b[1;32m    672\u001b[0m \u001b[38;5;28;01mdef\u001b[39;00m \u001b[38;5;21m_next_data\u001b[39m(\u001b[38;5;28mself\u001b[39m):\n\u001b[1;32m    673\u001b[0m     index \u001b[38;5;241m=\u001b[39m \u001b[38;5;28mself\u001b[39m\u001b[38;5;241m.\u001b[39m_next_index()  \u001b[38;5;66;03m# may raise StopIteration\u001b[39;00m\n\u001b[0;32m--> 674\u001b[0m     data \u001b[38;5;241m=\u001b[39m \u001b[38;5;28;43mself\u001b[39;49m\u001b[38;5;241;43m.\u001b[39;49m\u001b[43m_dataset_fetcher\u001b[49m\u001b[38;5;241;43m.\u001b[39;49m\u001b[43mfetch\u001b[49m\u001b[43m(\u001b[49m\u001b[43mindex\u001b[49m\u001b[43m)\u001b[49m  \u001b[38;5;66;03m# may raise StopIteration\u001b[39;00m\n\u001b[1;32m    675\u001b[0m     \u001b[38;5;28;01mif\u001b[39;00m \u001b[38;5;28mself\u001b[39m\u001b[38;5;241m.\u001b[39m_pin_memory:\n\u001b[1;32m    676\u001b[0m         data \u001b[38;5;241m=\u001b[39m _utils\u001b[38;5;241m.\u001b[39mpin_memory\u001b[38;5;241m.\u001b[39mpin_memory(data, \u001b[38;5;28mself\u001b[39m\u001b[38;5;241m.\u001b[39m_pin_memory_device)\n",
      "File \u001b[0;32m~/anaconda3/envs/NLP/lib/python3.11/site-packages/torch/utils/data/_utils/fetch.py:54\u001b[0m, in \u001b[0;36m_MapDatasetFetcher.fetch\u001b[0;34m(self, possibly_batched_index)\u001b[0m\n\u001b[1;32m     52\u001b[0m \u001b[38;5;28;01melse\u001b[39;00m:\n\u001b[1;32m     53\u001b[0m     data \u001b[38;5;241m=\u001b[39m \u001b[38;5;28mself\u001b[39m\u001b[38;5;241m.\u001b[39mdataset[possibly_batched_index]\n\u001b[0;32m---> 54\u001b[0m \u001b[38;5;28;01mreturn\u001b[39;00m \u001b[38;5;28;43mself\u001b[39;49m\u001b[38;5;241;43m.\u001b[39;49m\u001b[43mcollate_fn\u001b[49m\u001b[43m(\u001b[49m\u001b[43mdata\u001b[49m\u001b[43m)\u001b[49m\n",
      "Cell \u001b[0;32mIn[48], line 49\u001b[0m, in \u001b[0;36mMakeDataLoader.collate_batch\u001b[0;34m(self, batch)\u001b[0m\n\u001b[1;32m     48\u001b[0m \u001b[38;5;28;01mdef\u001b[39;00m \u001b[38;5;21mcollate_batch\u001b[39m(\u001b[38;5;28mself\u001b[39m,batch):\n\u001b[0;32m---> 49\u001b[0m     texts,_\u001b[38;5;241m=\u001b[39m\u001b[38;5;28;43mself\u001b[39;49m\u001b[38;5;241;43m.\u001b[39;49m\u001b[43mmake_transform\u001b[49m\u001b[43m(\u001b[49m\u001b[43m[\u001b[49m\u001b[43mtext\u001b[49m\u001b[43m \u001b[49m\u001b[38;5;28;43;01mfor\u001b[39;49;00m\u001b[43m \u001b[49m\u001b[43m(\u001b[49m\u001b[43mtext\u001b[49m\u001b[43m,\u001b[49m\u001b[43mlabel\u001b[49m\u001b[43m)\u001b[49m\u001b[43m \u001b[49m\u001b[38;5;129;43;01min\u001b[39;49;00m\u001b[43m \u001b[49m\u001b[43mbatch\u001b[49m\u001b[43m]\u001b[49m\u001b[43m)\u001b[49m\n\u001b[1;32m     50\u001b[0m     _,labels\u001b[38;5;241m=\u001b[39m\u001b[38;5;28mself\u001b[39m\u001b[38;5;241m.\u001b[39mmake_transform([label \u001b[38;5;28;01mfor\u001b[39;00m (text, label) \u001b[38;5;129;01min\u001b[39;00m batch])\n\u001b[1;32m     51\u001b[0m     \u001b[38;5;28;01mreturn\u001b[39;00m texts,labels\n",
      "\u001b[0;31mTypeError\u001b[0m: MakeDataLoader.make_transform() takes 1 positional argument but 2 were given"
     ]
    }
   ],
   "source": [
    "for i ,(texts,labels) in enumerate(dataloader_train):\n",
    "    print(i)\n",
    "    for text,label in zip(texts,labels):\n",
    "        print(text,label_vocab.lookup_token(label))"
   ]
  },
  {
   "cell_type": "markdown",
   "metadata": {},
   "source": [
    "#### 単語の数字への変換\n",
    "1. tokenに対してIDを割り振って学習させる方法<br>\n",
    "→情報が離散的で近くにある文字しか対象にならない\n",
    "1. word2vecなどを用いてベクトルに変換する<br>\n",
    "→ベクトルにしているので遠くの単語の類似度もわかる"
   ]
  },
  {
   "cell_type": "code",
   "execution_count": 18,
   "metadata": {},
   "outputs": [],
   "source": [
    "# #tokenからword2vecを用いてベクトルに変換する\n",
    "# #東北大学の乾研究室の学習済みデータを用いる\n",
    "# #https://www.cl.ecei.tohoku.ac.jp/~m-suzuki/jawiki_vector/\n",
    "\n",
    "# #! conda install anaconda::gensim\n",
    "# import os\n",
    "# import urllib.request\n",
    "# import zipfile\n",
    "# import tarfile\n",
    "\n",
    "# from gensim.models import KeyedVectors\n",
    "\n",
    "# url = \"http://www.cl.ecei.tohoku.ac.jp/~m-suzuki/jawiki_vector/data/20170201.tar.bz2\"\n",
    "# save_path = \"./data/20170201.tar.bz2\"\n",
    "# if not os.path.exists(save_path):\n",
    "#     urllib.request.urlretrieve(url, save_path)\n",
    "\n",
    "# # tarファイルを読み込み\n",
    "# tar = tarfile.open('./data/20170201.tar.bz2', 'r|bz2')\n",
    "# tar.extractall('./data/')  # 解凍\n",
    "# tar.close()  # ファイルをクローズ\n",
    "\n",
    "# model = KeyedVectors.load_word2vec_format(\n",
    "#     './data/entity_vector/entity_vector.model.bin', binary=True)\n",
    "\n",
    "# # 保存（時間がかかります、10分弱）\n",
    "# model.save_word2vec_format('./data/japanese_word2vec_vectors.vec')"
   ]
  },
  {
   "cell_type": "code",
   "execution_count": 19,
   "metadata": {},
   "outputs": [
    {
     "name": "stdout",
     "output_type": "stream",
     "text": [
      "１単語の次元 :  200\n",
      "単語数 :  1015474\n"
     ]
    }
   ],
   "source": [
    "from torchtext.vocab import Vectors\n",
    "\n",
    "japanese_word2vec_vectors=Vectors(\n",
    "    name='./data/japanese_word2vec_vectors.vec'\n",
    ")\n",
    "\n",
    "print('１単語の次元 : ',japanese_word2vec_vectors.dim)\n",
    "print('単語数 : ',len(japanese_word2vec_vectors.itos))"
   ]
  },
  {
   "cell_type": "code",
   "execution_count": 40,
   "metadata": {},
   "outputs": [
    {
     "name": "stdout",
     "output_type": "stream",
     "text": [
      "('[高橋みなみ]', 0.9047951698303223)\n",
      "('[大島優子]', 0.8955446481704712)\n",
      "('[松井珠理奈]', 0.8776582479476929)\n",
      "('[松井玲奈]', 0.8701295256614685)\n",
      "('[指原莉乃]', 0.8524861335754395)\n",
      "('[島崎遥香]', 0.8492460250854492)\n",
      "('[山本彩]', 0.8412748575210571)\n",
      "('[小嶋陽菜]', 0.835233747959137)\n",
      "('[渡辺麻友]', 0.8340295553207397)\n",
      "('[篠田麻里子]', 0.8066893815994263)\n"
     ]
    }
   ],
   "source": [
    "results = model.most_similar(u'[前田敦子]')\n",
    "for result in results:\n",
    "    print(result)"
   ]
  },
  {
   "cell_type": "code",
   "execution_count": 21,
   "metadata": {},
   "outputs": [
    {
     "name": "stdout",
     "output_type": "stream",
     "text": [
      "('ドレナージ', 0.4027651846408844)\n",
      "('[分娩]', 0.39615094661712646)\n",
      "('[座位]', 0.3796175420284271)\n",
      "('[出産]', 0.37935060262680054)\n",
      "('[生殖]', 0.3761950731277466)\n",
      "('望ましい', 0.37324923276901245)\n",
      "('[子育て]', 0.372659832239151)\n",
      "('[歯科医師]', 0.3716592788696289)\n",
      "('[歯学者]', 0.36931660771369934)\n",
      "('[公認心理師]', 0.36690229177474976)\n"
     ]
    }
   ],
   "source": [
    "results = model.most_similar(positive=[u'[妻]'],negative=[u'[愛人]'])\n",
    "for result in results:\n",
    "    print(result)\n"
   ]
  },
  {
   "cell_type": "code",
   "execution_count": null,
   "metadata": {},
   "outputs": [],
   "source": []
  }
 ],
 "metadata": {
  "kernelspec": {
   "display_name": "NLP",
   "language": "python",
   "name": "python3"
  },
  "language_info": {
   "codemirror_mode": {
    "name": "ipython",
    "version": 3
   },
   "file_extension": ".py",
   "mimetype": "text/x-python",
   "name": "python",
   "nbconvert_exporter": "python",
   "pygments_lexer": "ipython3",
   "version": "3.11.7"
  }
 },
 "nbformat": 4,
 "nbformat_minor": 2
}
