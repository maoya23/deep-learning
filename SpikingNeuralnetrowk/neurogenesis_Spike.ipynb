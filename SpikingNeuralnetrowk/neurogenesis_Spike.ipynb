{
 "cells": [
  {
   "cell_type": "code",
   "execution_count": 1,
   "metadata": {},
   "outputs": [
    {
     "name": "stderr",
     "output_type": "stream",
     "text": [
      "2024-02-21 17:59:47.443866: I tensorflow/core/util/port.cc:110] oneDNN custom operations are on. You may see slightly different numerical results due to floating-point round-off errors from different computation orders. To turn them off, set the environment variable `TF_ENABLE_ONEDNN_OPTS=0`.\n",
      "2024-02-21 17:59:47.474347: I tensorflow/core/platform/cpu_feature_guard.cc:182] This TensorFlow binary is optimized to use available CPU instructions in performance-critical operations.\n",
      "To enable the following instructions: SSE4.1 SSE4.2 AVX AVX2 AVX512F AVX512_VNNI FMA, in other operations, rebuild TensorFlow with the appropriate compiler flags.\n",
      "/home/bdr/anaconda3/envs/deep/lib/python3.11/site-packages/cupy/_environment.py:444: UserWarning: \n",
      "nccl library could not be loaded.\n",
      "\n",
      "Reason: ImportError (libnccl.so.2: cannot open shared object file: No such file or directory)\n",
      "\n",
      "You can install the library by:\n",
      "  $ conda install -c conda-forge nccl\n",
      "\n",
      "  warnings.warn(f'''\n",
      "/home/bdr/anaconda3/envs/deep/lib/python3.11/site-packages/chainer/_environment_check.py:72: UserWarning: \n",
      "--------------------------------------------------------------------------------\n",
      "CuPy (cupy) version 13.0.0 may not be compatible with this version of Chainer.\n",
      "Please consider installing the supported version by running:\n",
      "  $ pip install 'cupy>=7.7.0,<8.0.0'\n",
      "\n",
      "See the following page for more details:\n",
      "  https://docs.cupy.dev/en/latest/install.html\n",
      "--------------------------------------------------------------------------------\n",
      "\n",
      "  warnings.warn(msg.format(\n"
     ]
    }
   ],
   "source": [
    "from keras.datasets import mnist\n",
    "import numpy as np\n",
    "import matplotlib.pyplot as plt\n",
    "from Models import STDP_module\n",
    "import chainer\n",
    "import os\n",
    "from tqdm import tqdm"
   ]
  },
  {
   "cell_type": "code",
   "execution_count": 2,
   "metadata": {},
   "outputs": [
    {
     "name": "stdout",
     "output_type": "stream",
     "text": [
      "0\n"
     ]
    },
    {
     "data": {
      "image/png": "[encoded data removed]",
      "text/plain": [
       "<Figure size 640x480 with 1 Axes>"
      ]
     },
     "metadata": {},
     "output_type": "display_data"
    }
   ],
   "source": [
    "train,_=chainer.datasets.get_mnist()\n",
    "plt.imshow(np.reshape(train[1][0],(28,28)))\n",
    "print(train[1][1])"
   ]
  },
  {
   "cell_type": "code",
   "execution_count": 3,
   "metadata": {},
   "outputs": [
    {
     "name": "stdout",
     "output_type": "stream",
     "text": [
      "11973 5421\n"
     ]
    },
    {
     "data": {
      "text/plain": [
       "<matplotlib.image.AxesImage at 0x7f22098e9850>"
      ]
     },
     "execution_count": 3,
     "metadata": {},
     "output_type": "execute_result"
    },
    {
     "data": {
      "image/png": "[encoded data removed]",
      "text/plain": [
       "<Figure size 640x480 with 1 Axes>"
      ]
     },
     "metadata": {},
     "output_type": "display_data"
    }
   ],
   "source": [
    "dataset_3_4=[]\n",
    "dataset_5=[]\n",
    "for data in train:\n",
    "    if data[1]== 3 or data[1]==4:\n",
    "        dataset_3_4.append(data)\n",
    "\n",
    "for data in train:\n",
    "    if data[1]==5:\n",
    "        dataset_5.append(data)\n",
    "\n",
    "print(len(dataset_3_4),len(dataset_5))\n",
    "\n",
    "plt.imshow(np.reshape(dataset_3_4[0][0],(28,28)))\n",
    "plt.imshow(np.reshape(dataset_5[0][0],(28,28)))"
   ]
  },
  {
   "cell_type": "code",
   "execution_count": 4,
   "metadata": {},
   "outputs": [],
   "source": [
    "class Config:\n",
    "    dt=1e-3#時間の刻み幅\n",
    "    t_inj=0.350#実行させる時間\n",
    "    t_blank=0.15#ブランクで何もしない時間\n",
    "    nt_inj=round(t_inj/dt)\n",
    "    nt_blank=round(t_blank/dt)\n",
    "\n",
    "    n_neurons=100#興奮性抑圧性ニューロンの数\n",
    "    n_labels=2\n",
    "    n_epoch=15\n",
    "\n",
    "    n_train=5000#学習に使うデータの数\n",
    "    update_nt=nt_inj\n",
    "\n",
    "    wexc=2.25\n",
    "    winh=0.85\n",
    "\n",
    "    result_save_dir='./LIF_WTA_STDP_MNIST_results/neurogenesis'\n",
    "config=Config()\n",
    "os.makedirs(config.result_save_dir,exist_ok=True)"
   ]
  },
  {
   "cell_type": "markdown",
   "metadata": {},
   "source": [
    "#### とりあえず3と4の文字を入力することから始める"
   ]
  },
  {
   "cell_type": "code",
   "execution_count": 5,
   "metadata": {},
   "outputs": [],
   "source": [
    "input_spikes=STDP_module.online_load_and_encoding_dataset(dataset=dataset_3_4,i=0,\n",
    "                                        dt=config.dt,n_time=config.nt_inj)\n",
    "\n",
    "labels=np.array([dataset_3_4[i][1] for i in range(len(dataset_3_4))])\n",
    "\n",
    "network=STDP_module.Network(n_in=784,n_neurons=config.n_neurons,\n",
    "                            wexc=config.wexc,winh=config.winh,\n",
    "                            dt=config.dt,wmin=0.0,wmax=2e-5,\n",
    "                            lr=(1e-2,1e-4),\n",
    "                            update_nt=config.update_nt) \n",
    "\n",
    "network.initialize_states()\n",
    "\n",
    "spikes=np.zeros((config.n_train,config.n_neurons)).astype(np.uint8)\n",
    "accuracy_all=np.zeros(config.n_epoch)\n",
    "blank_input=np.zeros(784)\n",
    "init_max_fr=32"
   ]
  },
  {
   "cell_type": "code",
   "execution_count": 6,
   "metadata": {},
   "outputs": [
    {
     "name": "stderr",
     "output_type": "stream",
     "text": [
      "  0%|          | 1/5000 [00:17<24:53:20, 17.92s/it]\n"
     ]
    },
    {
     "ename": "KeyboardInterrupt",
     "evalue": "",
     "output_type": "error",
     "traceback": [
      "\u001b[0;31m---------------------------------------------------------------------------\u001b[0m",
      "\u001b[0;31mKeyboardInterrupt\u001b[0m                         Traceback (most recent call last)",
      "Cell \u001b[0;32mIn[6], line 8\u001b[0m\n\u001b[1;32m      6\u001b[0m \u001b[38;5;66;03m# 画像刺激の入力\u001b[39;00m\n\u001b[1;32m      7\u001b[0m \u001b[38;5;28;01mfor\u001b[39;00m t \u001b[38;5;129;01min\u001b[39;00m \u001b[38;5;28mrange\u001b[39m(config\u001b[38;5;241m.\u001b[39mnt_inj):\n\u001b[0;32m----> 8\u001b[0m     s_exc \u001b[38;5;241m=\u001b[39m network(input_spikes[t], stdp\u001b[38;5;241m=\u001b[39m\u001b[38;5;28;01mTrue\u001b[39;00m)\n\u001b[1;32m      9\u001b[0m     spike_list\u001b[38;5;241m.\u001b[39mappend(s_exc)\n\u001b[1;32m     11\u001b[0m spikes[i] \u001b[38;5;241m=\u001b[39m np\u001b[38;5;241m.\u001b[39msum(np\u001b[38;5;241m.\u001b[39marray(spike_list), axis\u001b[38;5;241m=\u001b[39m\u001b[38;5;241m0\u001b[39m) \u001b[38;5;66;03m# スパイク数を記録\u001b[39;00m\n",
      "File \u001b[0;32m~/deep-learning/SpikingNeuralnetrowk/Models/STDP_module.py:158\u001b[0m, in \u001b[0;36mNetwork.__call__\u001b[0;34m(self, s_in, stdp)\u001b[0m\n\u001b[1;32m    155\u001b[0m g_in \u001b[38;5;241m=\u001b[39m \u001b[38;5;28mself\u001b[39m\u001b[38;5;241m.\u001b[39minput_conn(c_in)\n\u001b[1;32m    157\u001b[0m \u001b[38;5;66;03m# 興奮性ニューロン層\u001b[39;00m\n\u001b[0;32m--> 158\u001b[0m s_exc \u001b[38;5;241m=\u001b[39m \u001b[38;5;28mself\u001b[39m\u001b[38;5;241m.\u001b[39mexc_neurons(\u001b[38;5;28mself\u001b[39m\u001b[38;5;241m.\u001b[39mdelay_input(g_in), \u001b[38;5;28mself\u001b[39m\u001b[38;5;241m.\u001b[39mg_inh)\n\u001b[1;32m    159\u001b[0m c_exc \u001b[38;5;241m=\u001b[39m \u001b[38;5;28mself\u001b[39m\u001b[38;5;241m.\u001b[39mexc_synapse(s_exc)\n\u001b[1;32m    160\u001b[0m g_exc \u001b[38;5;241m=\u001b[39m np\u001b[38;5;241m.\u001b[39mdot(\u001b[38;5;28mself\u001b[39m\u001b[38;5;241m.\u001b[39mexc2inh_W, c_exc)\n",
      "\u001b[0;31mKeyboardInterrupt\u001b[0m: "
     ]
    }
   ],
   "source": [
    "for epoch in range(config.n_epoch):\n",
    "    for i in tqdm(range(config.n_train)):\n",
    "        max_fr = init_max_fr\n",
    "        while(True):\n",
    "            spike_list = [] # サンプルごとにスパイクを記録するリスト\n",
    "            # 画像刺激の入力\n",
    "            for t in range(config.nt_inj):\n",
    "                s_exc = network(input_spikes[t], stdp=True)\n",
    "                spike_list.append(s_exc)\n",
    "            \n",
    "            spikes[i] = np.sum(np.array(spike_list), axis=0) # スパイク数を記録\n",
    "            \n",
    "            # ブランク刺激の入力\n",
    "            for _ in range(config.nt_blank):\n",
    "                _ = network(blank_input, stdp=False)\n",
    "\n",
    "            num_spikes_exc = np.sum(np.array(spike_list)) # スパイク数を計算\n",
    "            if num_spikes_exc >= 5: # スパイク数が5より大きければ次のサンプルへ\n",
    "                break\n",
    "            else: # スパイク数が5より小さければ入力発火率を上げて再度刺激\n",
    "                max_fr += 16\n",
    "    \n",
    "    # ニューロンを各ラベルに割り当てる\n",
    "    if epoch == 0:\n",
    "        assignments, proportions, rates = STDP_module.assign_labels(spikes, labels,\n",
    "                                                        config.n_labels)\n",
    "    else:\n",
    "        assignments, proportions, rates = STDP_module.assign_labels(spikes, labels,\n",
    "                                                        config.n_labels, rates)\n",
    "    print(\"Assignments:\\n\", assignments)\n",
    "    \n",
    "    # スパイク数の確認(正常に発火しているか確認)\n",
    "    sum_nspikes = np.sum(spikes, axis=1)\n",
    "    mean_nspikes = np.mean(sum_nspikes).astype(np.float16)\n",
    "    print(\"Ave. spikes:\", mean_nspikes)\n",
    "    print(\"Min. spikes:\", sum_nspikes.min())\n",
    "    print(\"Max. spikes:\", sum_nspikes.max())\n",
    "\n",
    "    # 入力サンプルのラベルを予測する\n",
    "    predicted_labels = STDP_module.prediction(spikes, assignments, config.n_labels)\n",
    "    \n",
    "    # 訓練精度を計算\n",
    "    accuracy = np.mean(np.where(labels==predicted_labels, 1, 0)).astype(np.float16)\n",
    "    print(\"epoch :\", epoch, \" accuracy :\", accuracy)\n",
    "    accuracy_all[epoch] = accuracy\n",
    "    \n",
    "    # 学習率の減衰\n",
    "    network.lr_p *= 0.75\n",
    "    network.lr_m *= 0.75\n",
    "    \n",
    "    # 重みの保存(エポック毎)\n",
    "    np.save(config.results_save_dir+\"weight_epoch\"+str(epoch)+\".npy\",\n",
    "            network.input_conn.W)\n",
    "    \n"
   ]
  },
  {
   "cell_type": "code",
   "execution_count": null,
   "metadata": {},
   "outputs": [],
   "source": []
  }
 ],
 "metadata": {
  "kernelspec": {
   "display_name": "deep",
   "language": "python",
   "name": "python3"
  },
  "language_info": {
   "codemirror_mode": {
    "name": "ipython",
    "version": 3
   },
   "file_extension": ".py",
   "mimetype": "text/x-python",
   "name": "python",
   "nbconvert_exporter": "python",
   "pygments_lexer": "ipython3",
   "version": "3.11.6"
  }
 },
 "nbformat": 4,
 "nbformat_minor": 2
}
