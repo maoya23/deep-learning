{
 "cells": [
  {
   "cell_type": "code",
   "execution_count": 7,
   "metadata": {},
   "outputs": [],
   "source": [
    "import cupy as np\n",
    "import matplotlib.pyplot as plt\n",
    "from Models import STDP_module\n",
    "import chainer\n",
    "import os\n",
    "import numpy as np\n",
    "from tqdm import tqdm"
   ]
  },
  {
   "cell_type": "code",
   "execution_count": 11,
   "metadata": {},
   "outputs": [
    {
     "name": "stdout",
     "output_type": "stream",
     "text": [
      "0\n"
     ]
    },
    {
     "data": {
      "image/png": "[encoded data removed]",
      "text/plain": [
       "<Figure size 640x480 with 1 Axes>"
      ]
     },
     "metadata": {},
     "output_type": "display_data"
    }
   ],
   "source": [
    "train,_=chainer.datasets.get_mnist()\n",
    "plt.imshow(np.reshape(train[1][0],(28,28)))\n",
    "print(train[1][1])"
   ]
  },
  {
   "cell_type": "code",
   "execution_count": 3,
   "metadata": {},
   "outputs": [
    {
     "name": "stdout",
     "output_type": "stream",
     "text": [
      "11973 5421\n"
     ]
    },
    {
     "data": {
      "text/plain": [
       "<matplotlib.image.AxesImage at 0x7f0a0f3f6710>"
      ]
     },
     "execution_count": 3,
     "metadata": {},
     "output_type": "execute_result"
    },
    {
     "data": {
      "image/png": "[encoded data removed]",
      "text/plain": [
       "<Figure size 640x480 with 1 Axes>"
      ]
     },
     "metadata": {},
     "output_type": "display_data"
    }
   ],
   "source": [
    "dataset_3_4=[]\n",
    "dataset_5=[]\n",
    "for data in train:\n",
    "    if data[1]== 3 or data[1]==4:\n",
    "        dataset_3_4.append(data)\n",
    "\n",
    "for data in train:\n",
    "    if data[1]==5:\n",
    "        dataset_5.append(data)\n",
    "\n",
    "print(len(dataset_3_4),len(dataset_5))\n",
    "\n",
    "plt.imshow(np.reshape(dataset_3_4[0][0],(28,28)))\n",
    "plt.imshow(np.reshape(dataset_5[0][0],(28,28)))\n"
   ]
  },
  {
   "cell_type": "code",
   "execution_count": 4,
   "metadata": {},
   "outputs": [],
   "source": [
    "class Config:\n",
    "    dt=1e-3#時間の刻み幅\n",
    "    t_inj=0.350#実行させる時間\n",
    "    t_blank=0.15#ブランクで何もしない時間\n",
    "    nt_inj=round(t_inj/dt)\n",
    "    nt_blank=round(t_blank/dt)\n",
    "\n",
    "    n_neurons=100#興奮性抑圧性ニューロンの数\n",
    "    n_labels=2\n",
    "    n_epoch=2\n",
    "\n",
    "    n_train=len(dataset_3_4)#学習に使うデータの数\n",
    "    update_nt=nt_inj\n",
    "\n",
    "    wexc=2.25\n",
    "    winh=0.85\n",
    "\n",
    "    result_save_dir='./LIF_WTA_STDP_MNIST_results/neurogenesis'\n",
    "config=Config()\n",
    "os.makedirs(config.result_save_dir,exist_ok=True)"
   ]
  },
  {
   "cell_type": "markdown",
   "metadata": {},
   "source": [
    "#### とりあえず3と4の文字を入力することから始める"
   ]
  },
  {
   "cell_type": "code",
   "execution_count": 5,
   "metadata": {},
   "outputs": [],
   "source": [
    "\n",
    "labels=np.array([dataset_3_4[i][1] for i in range(len(dataset_3_4))])\n",
    "\n",
    "network=STDP_module.Network(n_in=784,n_neurons=config.n_neurons,\n",
    "                            wexc=config.wexc,winh=config.winh,\n",
    "                            dt=config.dt,wmin=0.0,wmax=2e-5,\n",
    "                            lr=(1e-2,1e-4),\n",
    "                            update_nt=config.update_nt) \n",
    "\n",
    "network.initialize_states()\n",
    "\n",
    "spikes=np.zeros((config.n_train,config.n_neurons)).astype(np.uint8)\n",
    "accuracy_all=np.zeros(config.n_epoch)\n",
    "blank_input=np.zeros(784)\n",
    "init_max_fr=32"
   ]
  },
  {
   "cell_type": "code",
   "execution_count": 6,
   "metadata": {},
   "outputs": [
    {
     "name": "stderr",
     "output_type": "stream",
     "text": [
      " 70%|███████   | 8386/11973 [24:35:55<10:31:18, 10.56s/it]\n"
     ]
    },
    {
     "ename": "KeyboardInterrupt",
     "evalue": "",
     "output_type": "error",
     "traceback": [
      "\u001b[0;31m---------------------------------------------------------------------------\u001b[0m",
      "\u001b[0;31mKeyboardInterrupt\u001b[0m                         Traceback (most recent call last)",
      "Cell \u001b[0;32mIn[6], line 13\u001b[0m\n\u001b[1;32m     11\u001b[0m \u001b[38;5;66;03m# 画像刺激の入力\u001b[39;00m\n\u001b[1;32m     12\u001b[0m \u001b[38;5;28;01mfor\u001b[39;00m t \u001b[38;5;129;01min\u001b[39;00m \u001b[38;5;28mrange\u001b[39m(config\u001b[38;5;241m.\u001b[39mnt_inj):\n\u001b[0;32m---> 13\u001b[0m     s_exc \u001b[38;5;241m=\u001b[39m \u001b[43mnetwork\u001b[49m\u001b[43m(\u001b[49m\u001b[43mnp\u001b[49m\u001b[38;5;241;43m.\u001b[39;49m\u001b[43masarray\u001b[49m\u001b[43m(\u001b[49m\u001b[43minput_spikes\u001b[49m\u001b[43m[\u001b[49m\u001b[43mt\u001b[49m\u001b[43m]\u001b[49m\u001b[43m)\u001b[49m\u001b[43m,\u001b[49m\u001b[43m \u001b[49m\u001b[43mstdp\u001b[49m\u001b[38;5;241;43m=\u001b[39;49m\u001b[38;5;28;43;01mTrue\u001b[39;49;00m\u001b[43m)\u001b[49m\n\u001b[1;32m     14\u001b[0m     spike_list\u001b[38;5;241m.\u001b[39mappend(s_exc)\n\u001b[1;32m     16\u001b[0m spikes[i] \u001b[38;5;241m=\u001b[39m np\u001b[38;5;241m.\u001b[39msum(np\u001b[38;5;241m.\u001b[39marray(spike_list), axis\u001b[38;5;241m=\u001b[39m\u001b[38;5;241m0\u001b[39m) \u001b[38;5;66;03m# スパイク数を記録\u001b[39;00m\n",
      "File \u001b[0;32m~/deep-learning/SpikingNeuralnetrowk/Models/STDP_module.py:187\u001b[0m, in \u001b[0;36mNetwork.__call__\u001b[0;34m(self, s_in, stdp)\u001b[0m\n\u001b[1;32m    185\u001b[0m \u001b[38;5;66;03m# STDP則\u001b[39;00m\n\u001b[1;32m    186\u001b[0m dW \u001b[38;5;241m=\u001b[39m \u001b[38;5;28mself\u001b[39m\u001b[38;5;241m.\u001b[39mlr_p\u001b[38;5;241m*\u001b[39m(\u001b[38;5;28mself\u001b[39m\u001b[38;5;241m.\u001b[39mwmax \u001b[38;5;241m-\u001b[39m W)\u001b[38;5;241m*\u001b[39mnp\u001b[38;5;241m.\u001b[39mdot(\u001b[38;5;28mself\u001b[39m\u001b[38;5;241m.\u001b[39ms_exc_, \u001b[38;5;28mself\u001b[39m\u001b[38;5;241m.\u001b[39mx_in_)\n\u001b[0;32m--> 187\u001b[0m dW \u001b[38;5;241m-\u001b[39m\u001b[38;5;241m=\u001b[39m \u001b[38;5;28mself\u001b[39m\u001b[38;5;241m.\u001b[39mlr_m\u001b[38;5;241m*\u001b[39mW\u001b[38;5;241m*\u001b[39m\u001b[43mnp\u001b[49m\u001b[38;5;241;43m.\u001b[39;49m\u001b[43mdot\u001b[49m\u001b[43m(\u001b[49m\u001b[38;5;28;43mself\u001b[39;49m\u001b[38;5;241;43m.\u001b[39;49m\u001b[43mx_exc_\u001b[49m\u001b[43m,\u001b[49m\u001b[43m \u001b[49m\u001b[38;5;28;43mself\u001b[39;49m\u001b[38;5;241;43m.\u001b[39;49m\u001b[43ms_in_\u001b[49m\u001b[43m)\u001b[49m\n\u001b[1;32m    188\u001b[0m clipped_dW \u001b[38;5;241m=\u001b[39m np\u001b[38;5;241m.\u001b[39mclip(dW \u001b[38;5;241m/\u001b[39m \u001b[38;5;28mself\u001b[39m\u001b[38;5;241m.\u001b[39mupdate_nt, \u001b[38;5;241m-\u001b[39m\u001b[38;5;241m1e-3\u001b[39m, \u001b[38;5;241m1e-3\u001b[39m)\n\u001b[1;32m    189\u001b[0m \u001b[38;5;28mself\u001b[39m\u001b[38;5;241m.\u001b[39minput_conn\u001b[38;5;241m.\u001b[39mW \u001b[38;5;241m=\u001b[39m np\u001b[38;5;241m.\u001b[39mclip(W \u001b[38;5;241m+\u001b[39m clipped_dW,\n\u001b[1;32m    190\u001b[0m                             \u001b[38;5;28mself\u001b[39m\u001b[38;5;241m.\u001b[39mwmin, \u001b[38;5;28mself\u001b[39m\u001b[38;5;241m.\u001b[39mwmax)\n",
      "File \u001b[0;32m~/deep-learning/Simulation/lib/python3.10/site-packages/numpy/core/multiarray.py:741\u001b[0m, in \u001b[0;36mdot\u001b[0;34m(a, b, out)\u001b[0m\n\u001b[1;32m    671\u001b[0m \u001b[38;5;250m    \u001b[39m\u001b[38;5;124;03m\"\"\"\u001b[39;00m\n\u001b[1;32m    672\u001b[0m \u001b[38;5;124;03m    result_type(*arrays_and_dtypes)\u001b[39;00m\n\u001b[1;32m    673\u001b[0m \n\u001b[0;32m   (...)\u001b[0m\n\u001b[1;32m    736\u001b[0m \n\u001b[1;32m    737\u001b[0m \u001b[38;5;124;03m    \"\"\"\u001b[39;00m\n\u001b[1;32m    738\u001b[0m     \u001b[38;5;28;01mreturn\u001b[39;00m arrays_and_dtypes\n\u001b[0;32m--> 741\u001b[0m \u001b[38;5;129m@array_function_from_c_func_and_dispatcher\u001b[39m(_multiarray_umath\u001b[38;5;241m.\u001b[39mdot)\n\u001b[1;32m    742\u001b[0m \u001b[38;5;28;01mdef\u001b[39;00m \u001b[38;5;21mdot\u001b[39m(a, b, out\u001b[38;5;241m=\u001b[39m\u001b[38;5;28;01mNone\u001b[39;00m):\n\u001b[1;32m    743\u001b[0m \u001b[38;5;250m    \u001b[39m\u001b[38;5;124;03m\"\"\"\u001b[39;00m\n\u001b[1;32m    744\u001b[0m \u001b[38;5;124;03m    dot(a, b, out=None)\u001b[39;00m\n\u001b[1;32m    745\u001b[0m \n\u001b[0;32m   (...)\u001b[0m\n\u001b[1;32m    829\u001b[0m \n\u001b[1;32m    830\u001b[0m \u001b[38;5;124;03m    \"\"\"\u001b[39;00m\n\u001b[1;32m    831\u001b[0m     \u001b[38;5;28;01mreturn\u001b[39;00m (a, b, out)\n",
      "\u001b[0;31mKeyboardInterrupt\u001b[0m: "
     ]
    }
   ],
   "source": [
    "for epoch in range(config.n_epoch):\n",
    "    for i in tqdm(range(config.n_train)):\n",
    "        max_fr = init_max_fr\n",
    "        while(True):\n",
    "            input_spikes=STDP_module.online_load_and_encoding_dataset(dataset_3_4,i,\n",
    "                                        config.dt,config.nt_inj,max_fr)\n",
    "\n",
    "            input_spikes=np.asarray(input_spikes)\n",
    "\n",
    "            spike_list = [] # サンプルごとにスパイクを記録するリスト\n",
    "            # 画像刺激の入力\n",
    "            for t in range(config.nt_inj):\n",
    "                s_exc = network(np.asarray(input_spikes[t]), stdp=True)\n",
    "                spike_list.append(s_exc)\n",
    "            \n",
    "            spikes[i] = np.sum(np.array(spike_list), axis=0) # スパイク数を記録\n",
    "            \n",
    "            # ブランク刺激の入力\n",
    "            for _ in range(config.nt_blank):\n",
    "                _ = network(blank_input, stdp=False)\n",
    "\n",
    "            num_spikes_exc = np.sum(np.array(spike_list)) # スパイク数を計算\n",
    "            if num_spikes_exc >= 5: # スパイク数が5より大きければ次のサンプルへ\n",
    "                break\n",
    "            else: # スパイク数が5より小さければ入力発火率を上げて再度刺激\n",
    "                max_fr += 16\n",
    "    \n",
    "    # ニューロンを各ラベルに割り当てる\n",
    "    if epoch == 0:\n",
    "        assignments, proportions, rates = STDP_module.assign_labels(spikes, labels,\n",
    "                                                        config.n_labels)\n",
    "    else:\n",
    "        assignments, proportions, rates = STDP_module.assign_labels(spikes, labels,\n",
    "                                                        config.n_labels, rates)\n",
    "    print(\"Assignments:\\n\", assignments)\n",
    "    \n",
    "    # スパイク数の確認(正常に発火しているか確認)\n",
    "    sum_nspikes = np.sum(spikes, axis=1)\n",
    "    mean_nspikes = np.mean(sum_nspikes).astype(np.float16)\n",
    "    print(\"Ave. spikes:\", mean_nspikes)\n",
    "    print(\"Min. spikes:\", sum_nspikes.min())\n",
    "    print(\"Max. spikes:\", sum_nspikes.max())\n",
    "\n",
    "    # 入力サンプルのラベルを予測する\n",
    "    predicted_labels = STDP_module.prediction(spikes, assignments, config.n_labels)\n",
    "    \n",
    "    # 訓練精度を計算\n",
    "    accuracy = np.mean(np.where(labels==predicted_labels, 1, 0)).astype(np.float16)\n",
    "    print(\"epoch :\", epoch, \" accuracy :\", accuracy)\n",
    "    accuracy_all[epoch] = accuracy\n",
    "    \n",
    "    # 学習率の減衰\n",
    "    network.lr_p *= 0.75\n",
    "    network.lr_m *= 0.75\n",
    "    \n",
    "    # 重みの保存(エポック毎)\n",
    "    np.save(config.results_save_dir+\"weight_epoch\"+str(epoch)+\".npy\",\n",
    "            network.input_conn.W)\n",
    "    \n"
   ]
  }
 ],
 "metadata": {
  "kernelspec": {
   "display_name": "deep",
   "language": "python",
   "name": "python3"
  },
  "language_info": {
   "codemirror_mode": {
    "name": "ipython",
    "version": 3
   },
   "file_extension": ".py",
   "mimetype": "text/x-python",
   "name": "python",
   "nbconvert_exporter": "python",
   "pygments_lexer": "ipython3",
   "version": "3.10.13"
  }
 },
 "nbformat": 4,
 "nbformat_minor": 2
}
